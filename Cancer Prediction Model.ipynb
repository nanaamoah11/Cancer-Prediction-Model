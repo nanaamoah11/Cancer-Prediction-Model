{
 "cells": [
  {
   "cell_type": "markdown",
   "id": "719178d0",
   "metadata": {},
   "source": [
    "# Cancer Prediction Model"
   ]
  },
  {
   "cell_type": "markdown",
   "id": "8d0abbe5",
   "metadata": {},
   "source": [
    "Cancer poses a substantial global health challenge; however, ongoing progress in research, early detection\n",
    "methods, and treatment option provides optimism for enhanced patient outcomes. Intrigued by the quest for \n",
    "a deeper understanding of the determinants contributing to the onset of cancer,I find myself compelled to embark on this\n",
    "project."
   ]
  },
  {
   "cell_type": "markdown",
   "id": "ebb97abf",
   "metadata": {},
   "source": [
    "### Mision and vision"
   ]
  },
  {
   "cell_type": "markdown",
   "id": "94baff8b",
   "metadata": {},
   "source": [
    "This undertaking aspires to meticulously explore and construct a machine learning model with the primary objective of \n",
    "Predicting the likelihood of a Patient getting cancer giving certain health records such as age, gender, smoking, fatigue\n",
    "and allergy."
   ]
  },
  {
   "cell_type": "markdown",
   "id": "4ae5e24a",
   "metadata": {},
   "source": [
    "### About the dataset"
   ]
  },
  {
   "cell_type": "markdown",
   "id": "4519a102",
   "metadata": {},
   "source": [
    "Constrained by the ethical considerations surrounding data usage, stringent public health privacy policies,\n",
    "and challenges associated with suboptimal data collection practices,authentic datasets for my project were unattainable.\n",
    "I have acquired synthetic data from Kaggle.com, which will serve as the cornerstone for my project.\n",
    "\n",
    "For the gender variable\n",
    "> Male----0\n",
    "\n",
    "\n",
    "> Female--1\n",
    "\n",
    "for the other variables/features\n",
    "> yes/Positive----1\n",
    "\n",
    "\n",
    "> No/Negative-----0"
   ]
  },
  {
   "cell_type": "code",
   "execution_count": 1,
   "id": "286524ef",
   "metadata": {},
   "outputs": [],
   "source": [
    "# import libraries\n",
    "import pandas as pd\n",
    "import matplotlib.pyplot as plt\n",
    "import seaborn as sns\n",
    "from sklearn.ensemble import RandomForestClassifier\n",
    "from sklearn.model_selection import GridSearchCV, train_test_split\n",
    "from imblearn.over_sampling import RandomOverSampler\n",
    "from imblearn.under_sampling import RandomUnderSampler\n",
    "import ipywidgets as widgets\n",
    "import numpy as np\n",
    "from ipywidgets import interact\n",
    "from sklearn.metrics import (\n",
    "    ConfusionMatrixDisplay,\n",
    "    recall_score,\n",
    "    accuracy_score,\n",
    "    roc_auc_score,\n",
    "    f1_score,\n",
    "    precision_score,\n",
    "    classification_report,\n",
    "    confusion_matrix,\n",
    ")"
   ]
  },
  {
   "cell_type": "code",
   "execution_count": 2,
   "id": "c62bb26c",
   "metadata": {},
   "outputs": [
    {
     "name": "stdout",
     "output_type": "stream",
     "text": [
      "The data set has 10000 observations and 6 variables\n"
     ]
    },
    {
     "data": {
      "text/html": [
       "<div>\n",
       "<style scoped>\n",
       "    .dataframe tbody tr th:only-of-type {\n",
       "        vertical-align: middle;\n",
       "    }\n",
       "\n",
       "    .dataframe tbody tr th {\n",
       "        vertical-align: top;\n",
       "    }\n",
       "\n",
       "    .dataframe thead th {\n",
       "        text-align: right;\n",
       "    }\n",
       "</style>\n",
       "<table border=\"1\" class=\"dataframe\">\n",
       "  <thead>\n",
       "    <tr style=\"text-align: right;\">\n",
       "      <th></th>\n",
       "      <th>Gender</th>\n",
       "      <th>Age</th>\n",
       "      <th>Smoking</th>\n",
       "      <th>Fatigue</th>\n",
       "      <th>Allergy</th>\n",
       "      <th>Cancer</th>\n",
       "    </tr>\n",
       "  </thead>\n",
       "  <tbody>\n",
       "    <tr>\n",
       "      <th>0</th>\n",
       "      <td>1</td>\n",
       "      <td>85</td>\n",
       "      <td>1</td>\n",
       "      <td>0</td>\n",
       "      <td>1</td>\n",
       "      <td>0</td>\n",
       "    </tr>\n",
       "    <tr>\n",
       "      <th>1</th>\n",
       "      <td>1</td>\n",
       "      <td>93</td>\n",
       "      <td>0</td>\n",
       "      <td>0</td>\n",
       "      <td>0</td>\n",
       "      <td>0</td>\n",
       "    </tr>\n",
       "    <tr>\n",
       "      <th>2</th>\n",
       "      <td>1</td>\n",
       "      <td>72</td>\n",
       "      <td>0</td>\n",
       "      <td>1</td>\n",
       "      <td>0</td>\n",
       "      <td>0</td>\n",
       "    </tr>\n",
       "    <tr>\n",
       "      <th>3</th>\n",
       "      <td>0</td>\n",
       "      <td>58</td>\n",
       "      <td>0</td>\n",
       "      <td>0</td>\n",
       "      <td>1</td>\n",
       "      <td>0</td>\n",
       "    </tr>\n",
       "    <tr>\n",
       "      <th>4</th>\n",
       "      <td>1</td>\n",
       "      <td>95</td>\n",
       "      <td>1</td>\n",
       "      <td>0</td>\n",
       "      <td>1</td>\n",
       "      <td>1</td>\n",
       "    </tr>\n",
       "  </tbody>\n",
       "</table>\n",
       "</div>"
      ],
      "text/plain": [
       "   Gender  Age  Smoking  Fatigue  Allergy  Cancer\n",
       "0       1   85        1        0        1       0\n",
       "1       1   93        0        0        0       0\n",
       "2       1   72        0        1        0       0\n",
       "3       0   58        0        0        1       0\n",
       "4       1   95        1        0        1       1"
      ]
     },
     "execution_count": 2,
     "metadata": {},
     "output_type": "execute_result"
    }
   ],
   "source": [
    "# Import dataset\n",
    "df = pd.read_csv('cancer_prediction_dataset.csv')\n",
    "print(f'The data set has {df.shape[0]} observations and {df.shape[1]} variables')\n",
    "df.head()"
   ]
  },
  {
   "cell_type": "code",
   "execution_count": 3,
   "id": "17be7aa3",
   "metadata": {},
   "outputs": [
    {
     "name": "stdout",
     "output_type": "stream",
     "text": [
      "<class 'pandas.core.frame.DataFrame'>\n",
      "RangeIndex: 10000 entries, 0 to 9999\n",
      "Data columns (total 6 columns):\n",
      " #   Column   Non-Null Count  Dtype\n",
      "---  ------   --------------  -----\n",
      " 0   Gender   10000 non-null  int64\n",
      " 1   Age      10000 non-null  int64\n",
      " 2   Smoking  10000 non-null  int64\n",
      " 3   Fatigue  10000 non-null  int64\n",
      " 4   Allergy  10000 non-null  int64\n",
      " 5   Cancer   10000 non-null  int64\n",
      "dtypes: int64(6)\n",
      "memory usage: 468.9 KB\n"
     ]
    }
   ],
   "source": [
    "# Information about the dataset\n",
    "df.info()"
   ]
  },
  {
   "cell_type": "code",
   "execution_count": 4,
   "id": "a341a40f",
   "metadata": {},
   "outputs": [
    {
     "name": "stdout",
     "output_type": "stream",
     "text": [
      "Gender     0\n",
      "Age        0\n",
      "Smoking    0\n",
      "Fatigue    0\n",
      "Allergy    0\n",
      "Cancer     0\n",
      "dtype: int64\n"
     ]
    }
   ],
   "source": [
    "# checking for missing values\n",
    "print(df.isnull().sum())"
   ]
  },
  {
   "cell_type": "markdown",
   "id": "179447b4",
   "metadata": {},
   "source": [
    "#### All Variables look great with no missing data"
   ]
  },
  {
   "cell_type": "code",
   "execution_count": 5,
   "id": "77ea8bb7",
   "metadata": {},
   "outputs": [
    {
     "data": {
      "text/plain": [
       "Index(['Gender', 'Age', 'Smoking', 'Fatigue', 'Allergy', 'Cancer'], dtype='object')"
      ]
     },
     "execution_count": 5,
     "metadata": {},
     "output_type": "execute_result"
    }
   ],
   "source": [
    "# Printing all the columns of the dataset\n",
    "df.columns"
   ]
  },
  {
   "cell_type": "markdown",
   "id": "2abfc1f0",
   "metadata": {},
   "source": [
    "# Exploratory Data Analysis [EDA]"
   ]
  },
  {
   "cell_type": "code",
   "execution_count": 6,
   "id": "5d074d11",
   "metadata": {},
   "outputs": [
    {
     "name": "stdout",
     "output_type": "stream",
     "text": [
      "1    5002\n",
      "0    4998\n",
      "Name: Smoking, dtype: int64\n",
      "-----------------------------------\n",
      "0    5025\n",
      "1    4975\n",
      "Name: Gender, dtype: int64\n",
      "-----------------------------------\n",
      "1    5018\n",
      "0    4982\n",
      "Name: Fatigue, dtype: int64\n",
      "-----------------------------------\n",
      "0    5001\n",
      "1    4999\n",
      "Name: Allergy, dtype: int64\n",
      "-----------------------------------\n",
      "0    9036\n",
      "1     964\n",
      "Name: Cancer, dtype: int64\n",
      "-----------------------------------\n"
     ]
    }
   ],
   "source": [
    "# Performing value counts for all the features\n",
    "cols=['Smoking', 'Gender','Fatigue', 'Allergy', 'Cancer']\n",
    "for col in cols:\n",
    "    print(df[col].value_counts())\n",
    "    print('-'*35)"
   ]
  },
  {
   "cell_type": "markdown",
   "id": "59850ce1",
   "metadata": {},
   "source": [
    ">There a lot of male patients than female Patient\n",
    "\n",
    "> patients who smoke are higher than those who do not smoke\n",
    "\n",
    ">Patients who suffer from fatigue are higher than those who do not suffer from fatigue\n",
    "\n",
    ">Patients without allergies are higher than those with allergies\n",
    "\n",
    ">Patients who do not suffer from cancer are higher than those who suffer from cancer\n"
   ]
  },
  {
   "cell_type": "markdown",
   "id": "e1305ed6",
   "metadata": {},
   "source": [
    "<div style= \"background-color: #fbceb1; padding: 10px;\">\n",
    "    <strong>Note!!!</strong>\n",
    "    <br>\n",
    "    we don't normally use gender for analysis and modelling due to data ethics but since this is health issue and a matter of concern for all, we'd use it\n",
    "     </div>"
   ]
  },
  {
   "cell_type": "code",
   "execution_count": 7,
   "id": "7bc8175d",
   "metadata": {},
   "outputs": [
    {
     "name": "stdout",
     "output_type": "stream",
     "text": [
      "0    5025\n",
      "1    4975\n",
      "Name: Gender, dtype: int64\n"
     ]
    },
    {
     "data": {
      "image/png": "[encoded data removed]",
      "text/plain": [
       "<Figure size 576x432 with 1 Axes>"
      ]
     },
     "metadata": {},
     "output_type": "display_data"
    }
   ],
   "source": [
    "# GENDER\n",
    "sns.set(rc={'figure.figsize':(8,6)})\n",
    "g = df.Gender.value_counts()\n",
    "print(g)\n",
    "# Visualizing the gender\n",
    "g.plot.pie(autopct = '%1.1f%%')\n",
    "plt.title('Age Distribution');"
   ]
  },
  {
   "cell_type": "code",
   "execution_count": 8,
   "id": "edcdb6aa",
   "metadata": {},
   "outputs": [
    {
     "data": {
      "text/plain": [
       "0    50.25\n",
       "1    49.75\n",
       "Name: Gender, dtype: float64"
      ]
     },
     "execution_count": 8,
     "metadata": {},
     "output_type": "execute_result"
    }
   ],
   "source": [
    "# Proportion of value counts for gender expressed as Percentage(%)\n",
    "g = df.Gender.value_counts(normalize = True) * 100\n",
    "g"
   ]
  },
  {
   "cell_type": "code",
   "execution_count": 9,
   "id": "597d1f5f",
   "metadata": {},
   "outputs": [
    {
     "name": "stdout",
     "output_type": "stream",
     "text": [
      "minimum Age; 18\n",
      "maximum Age; 100\n",
      "mean Age; 59.3184\n",
      "median Age; 60.0\n"
     ]
    },
    {
     "data": {
      "image/png": "[encoded data removed]",
      "text/plain": [
       "<Figure size 576x432 with 1 Axes>"
      ]
     },
     "metadata": {},
     "output_type": "display_data"
    }
   ],
   "source": [
    "# AGE\n",
    "min = df.Age.min()\n",
    "max = df.Age.max()\n",
    "mean = df.Age.mean()\n",
    "median = df.Age.median()\n",
    "print('minimum Age;', min)\n",
    "print('maximum Age;', max)\n",
    "print('mean Age;', mean)\n",
    "print('median Age;', median)\n",
    "# ploting\n",
    "df.Age.hist()\n",
    "plt.axvline(mean,color='r',linewidth=2,linestyle='--',label='mean')\n",
    "plt.axvline(median,color='g',linewidth=2,linestyle='-',label='median')\n",
    "plt.xlabel('Age')\n",
    "plt.ylabel('frequency [count]')\n",
    "plt.title('Distribution of Age')\n",
    "plt.legend();"
   ]
  },
  {
   "cell_type": "markdown",
   "id": "b7a057c3",
   "metadata": {},
   "source": [
    "### Fatigue Analysis"
   ]
  },
  {
   "cell_type": "code",
   "execution_count": 10,
   "id": "5ec861bb",
   "metadata": {},
   "outputs": [
    {
     "data": {
      "image/png": "[encoded data removed]",
      "text/plain": [
       "<Figure size 576x432 with 1 Axes>"
      ]
     },
     "metadata": {},
     "output_type": "display_data"
    }
   ],
   "source": [
    "# VISUALIZATION OF FATIGUE\n",
    "import matplotlib.pyplot as plt\n",
    "df.Fatigue.value_counts().plot.pie(autopct = '%1.1f%%')\n",
    "plt.title('Fatigue Distribution');"
   ]
  },
  {
   "cell_type": "code",
   "execution_count": 11,
   "id": "e633b3d6",
   "metadata": {},
   "outputs": [
    {
     "data": {
      "text/html": [
       "<div>\n",
       "<style scoped>\n",
       "    .dataframe tbody tr th:only-of-type {\n",
       "        vertical-align: middle;\n",
       "    }\n",
       "\n",
       "    .dataframe tbody tr th {\n",
       "        vertical-align: top;\n",
       "    }\n",
       "\n",
       "    .dataframe thead th {\n",
       "        text-align: right;\n",
       "    }\n",
       "</style>\n",
       "<table border=\"1\" class=\"dataframe\">\n",
       "  <thead>\n",
       "    <tr style=\"text-align: right;\">\n",
       "      <th></th>\n",
       "      <th>Gender</th>\n",
       "    </tr>\n",
       "  </thead>\n",
       "  <tbody>\n",
       "    <tr>\n",
       "      <th>0</th>\n",
       "      <td>2550</td>\n",
       "    </tr>\n",
       "    <tr>\n",
       "      <th>1</th>\n",
       "      <td>2468</td>\n",
       "    </tr>\n",
       "  </tbody>\n",
       "</table>\n",
       "</div>"
      ],
      "text/plain": [
       "   Gender\n",
       "0    2550\n",
       "1    2468"
      ]
     },
     "execution_count": 11,
     "metadata": {},
     "output_type": "execute_result"
    }
   ],
   "source": [
    "# Gender Distribution of Patients with Fatigue\n",
    "df[df['Fatigue']==1].Gender.value_counts().to_frame()"
   ]
  },
  {
   "cell_type": "markdown",
   "id": "034fbac1",
   "metadata": {},
   "source": [
    "Male patients suffer from fatigue than female patients"
   ]
  },
  {
   "cell_type": "code",
   "execution_count": 12,
   "id": "528abb20",
   "metadata": {},
   "outputs": [
    {
     "name": "stdout",
     "output_type": "stream",
     "text": [
      "percentage of male with fatigue: 50.74626865671642\n",
      "percentage of female with fatigue: 49.608040201005025\n"
     ]
    }
   ],
   "source": [
    "prop_female_fatigue=(2468/4975)*100\n",
    "prop_male_fatigue=(2550/5025)*100\n",
    "print('percentage of male with fatigue:',prop_male_fatigue)\n",
    "print('percentage of female with fatigue:',prop_female_fatigue)"
   ]
  },
  {
   "cell_type": "code",
   "execution_count": 13,
   "id": "30cee364",
   "metadata": {},
   "outputs": [
    {
     "data": {
      "image/png": "[encoded data removed]",
      "text/plain": [
       "<Figure size 576x432 with 1 Axes>"
      ]
     },
     "metadata": {},
     "output_type": "display_data"
    }
   ],
   "source": [
    "# Age Distribution of patients with fatigue\n",
    "df.Fatigue.value_counts()\n",
    "df[df['Fatigue']==1].Age.hist()\n",
    "plt.xlabel(\"Ages\")\n",
    "plt.ylabel(\"Frequency\")\n",
    "plt.title(\"Age Distribution Of Patients With Fatigue\");"
   ]
  },
  {
   "cell_type": "markdown",
   "id": "939283c8",
   "metadata": {},
   "source": [
    "We can see from the distribution that adults patients in the range [20 to 35] and the aged in the range [60 to 100] suffer from \n",
    "fatigue more than every other patient form any other age ranges\n",
    "\n",
    "This can be that majority of adult are in the labour force  and also the aged are weak. \n",
    "Patients within these age ranges are more likely to suffer from fatigue"
   ]
  },
  {
   "cell_type": "markdown",
   "id": "647ba57c",
   "metadata": {},
   "source": [
    "### smoking Analysis"
   ]
  },
  {
   "cell_type": "code",
   "execution_count": 14,
   "id": "03eb22e0",
   "metadata": {},
   "outputs": [
    {
     "data": {
      "image/png": "[encoded data removed]",
      "text/plain": [
       "<Figure size 576x432 with 1 Axes>"
      ]
     },
     "metadata": {},
     "output_type": "display_data"
    }
   ],
   "source": [
    "#VISUALIZATION OF SMOKING [COUNTS]\n",
    "df.Smoking.value_counts().sort_values().plot.pie(autopct = '%1.1f%%')\n",
    "plt.title('Distribution of Smoking Status');"
   ]
  },
  {
   "cell_type": "code",
   "execution_count": 15,
   "id": "c31dc1d5",
   "metadata": {},
   "outputs": [
    {
     "data": {
      "text/html": [
       "<div>\n",
       "<style scoped>\n",
       "    .dataframe tbody tr th:only-of-type {\n",
       "        vertical-align: middle;\n",
       "    }\n",
       "\n",
       "    .dataframe tbody tr th {\n",
       "        vertical-align: top;\n",
       "    }\n",
       "\n",
       "    .dataframe thead th {\n",
       "        text-align: right;\n",
       "    }\n",
       "</style>\n",
       "<table border=\"1\" class=\"dataframe\">\n",
       "  <thead>\n",
       "    <tr style=\"text-align: right;\">\n",
       "      <th></th>\n",
       "      <th>Gender</th>\n",
       "    </tr>\n",
       "  </thead>\n",
       "  <tbody>\n",
       "    <tr>\n",
       "      <th>1</th>\n",
       "      <td>2508</td>\n",
       "    </tr>\n",
       "    <tr>\n",
       "      <th>0</th>\n",
       "      <td>2494</td>\n",
       "    </tr>\n",
       "  </tbody>\n",
       "</table>\n",
       "</div>"
      ],
      "text/plain": [
       "   Gender\n",
       "1    2508\n",
       "0    2494"
      ]
     },
     "execution_count": 15,
     "metadata": {},
     "output_type": "execute_result"
    }
   ],
   "source": [
    "# Gender Distribution of Patients who Smokes\n",
    "df[df['Smoking']==1].Gender.value_counts().to_frame()"
   ]
  },
  {
   "cell_type": "markdown",
   "id": "77a790ff",
   "metadata": {},
   "source": [
    "Female patients smokes more than male patients"
   ]
  },
  {
   "cell_type": "code",
   "execution_count": 16,
   "id": "5ea70cfd",
   "metadata": {},
   "outputs": [
    {
     "name": "stdout",
     "output_type": "stream",
     "text": [
      "percentage of male who smokes: 49.6318407960199\n",
      "percentage of female who smokes: 50.41206030150753\n"
     ]
    }
   ],
   "source": [
    "prop_female_smokes=(2508/4975)*100\n",
    "prop_male_smokes=(2494/5025)*100\n",
    "print('percentage of male who smokes:',prop_male_smokes)\n",
    "print('percentage of female who smokes:',prop_female_smokes)"
   ]
  },
  {
   "cell_type": "code",
   "execution_count": 17,
   "id": "537b71d6",
   "metadata": {},
   "outputs": [
    {
     "data": {
      "image/png": "[encoded data removed]",
      "text/plain": [
       "<Figure size 576x432 with 1 Axes>"
      ]
     },
     "metadata": {},
     "output_type": "display_data"
    }
   ],
   "source": [
    "# Age Distribution of patients who Smokes\n",
    "df.Smoking.value_counts()\n",
    "df[df['Smoking']==1].Age.hist()\n",
    "plt.xlabel(\"Ages\")\n",
    "plt.ylabel(\"Frequency\")\n",
    "plt.title(\"Age Distribution Of Patients that Smokes\");"
   ]
  },
  {
   "cell_type": "markdown",
   "id": "9591b7b8",
   "metadata": {},
   "source": [
    "The aged patients in the age range [60 to 100] smokes more than every patients in other age ranges "
   ]
  },
  {
   "cell_type": "markdown",
   "id": "56e31d4b",
   "metadata": {},
   "source": [
    "### Allergy Analysis"
   ]
  },
  {
   "cell_type": "code",
   "execution_count": 18,
   "id": "262e3508",
   "metadata": {},
   "outputs": [
    {
     "data": {
      "image/png": "[encoded data removed]",
      "text/plain": [
       "<Figure size 576x432 with 1 Axes>"
      ]
     },
     "metadata": {},
     "output_type": "display_data"
    }
   ],
   "source": [
    "# VISUALIZATION OF ALLERGY[COUNTS]\n",
    "df.Allergy.value_counts().sort_values().plot.pie(autopct = '%1.1f%%')\n",
    "plt.title(' Distribution Of Allergy ');"
   ]
  },
  {
   "cell_type": "code",
   "execution_count": 19,
   "id": "e3f0bd5b",
   "metadata": {},
   "outputs": [
    {
     "data": {
      "text/html": [
       "<div>\n",
       "<style scoped>\n",
       "    .dataframe tbody tr th:only-of-type {\n",
       "        vertical-align: middle;\n",
       "    }\n",
       "\n",
       "    .dataframe tbody tr th {\n",
       "        vertical-align: top;\n",
       "    }\n",
       "\n",
       "    .dataframe thead th {\n",
       "        text-align: right;\n",
       "    }\n",
       "</style>\n",
       "<table border=\"1\" class=\"dataframe\">\n",
       "  <thead>\n",
       "    <tr style=\"text-align: right;\">\n",
       "      <th></th>\n",
       "      <th>Gender</th>\n",
       "    </tr>\n",
       "  </thead>\n",
       "  <tbody>\n",
       "    <tr>\n",
       "      <th>0</th>\n",
       "      <td>2530</td>\n",
       "    </tr>\n",
       "    <tr>\n",
       "      <th>1</th>\n",
       "      <td>2469</td>\n",
       "    </tr>\n",
       "  </tbody>\n",
       "</table>\n",
       "</div>"
      ],
      "text/plain": [
       "   Gender\n",
       "0    2530\n",
       "1    2469"
      ]
     },
     "execution_count": 19,
     "metadata": {},
     "output_type": "execute_result"
    }
   ],
   "source": [
    "# Gender Distribution of Patients who has allergy\n",
    "df[df['Allergy']==1].Gender.value_counts().to_frame()"
   ]
  },
  {
   "cell_type": "markdown",
   "id": "3658bd6d",
   "metadata": {},
   "source": [
    "Male patients have allergies more than female patients"
   ]
  },
  {
   "cell_type": "code",
   "execution_count": 20,
   "id": "98da3025",
   "metadata": {},
   "outputs": [
    {
     "name": "stdout",
     "output_type": "stream",
     "text": [
      "percentage of male with allergy: 50.34825870646766\n",
      "percentage of female who allergy: 49.62814070351759\n"
     ]
    }
   ],
   "source": [
    "prop_female_allergy=(2469/4975)*100\n",
    "prop_male_allergy=(2530/5025)*100\n",
    "print('percentage of male with allergy:',prop_male_allergy)\n",
    "print('percentage of female who allergy:',prop_female_allergy)"
   ]
  },
  {
   "cell_type": "code",
   "execution_count": 21,
   "id": "4b993233",
   "metadata": {},
   "outputs": [
    {
     "data": {
      "image/png": "[encoded data removed]",
      "text/plain": [
       "<Figure size 576x432 with 1 Axes>"
      ]
     },
     "metadata": {},
     "output_type": "display_data"
    }
   ],
   "source": [
    "# Age Distribution of patients with Allergies\n",
    "df.Smoking.value_counts()\n",
    "df[df['Allergy']==1].Age.hist()\n",
    "plt.xlabel(\"Ages\")\n",
    "plt.ylabel(\"Frequency\")\n",
    "plt.title(\"Age Distribution Of Patients With Allergy\");"
   ]
  },
  {
   "cell_type": "markdown",
   "id": "b527abf5",
   "metadata": {},
   "source": [
    "The aged patients in the age range [60 to 100] have allergies more than every patients in other age ranges"
   ]
  },
  {
   "cell_type": "markdown",
   "id": "c1b917e2",
   "metadata": {},
   "source": [
    "### CANCER ANALYSIS"
   ]
  },
  {
   "cell_type": "code",
   "execution_count": 22,
   "id": "37174467",
   "metadata": {},
   "outputs": [
    {
     "name": "stdout",
     "output_type": "stream",
     "text": [
      "0    90.36\n",
      "1     9.64\n",
      "Name: Cancer, dtype: float64\n"
     ]
    },
    {
     "data": {
      "image/png": "[encoded data removed]",
      "text/plain": [
       "<Figure size 576x432 with 1 Axes>"
      ]
     },
     "metadata": {},
     "output_type": "display_data"
    }
   ],
   "source": [
    "#VISUALIZATION OF CANCER[% COUNTS]\n",
    "cancer_counts = df.Cancer.value_counts(normalize = True)*100\n",
    "print(cancer_counts)\n",
    "cancer_counts.plot.pie(autopct = '%1.1f%%')\n",
    "plt.title('Distribution of Cancer Status');"
   ]
  },
  {
   "cell_type": "code",
   "execution_count": 23,
   "id": "92e20383",
   "metadata": {},
   "outputs": [
    {
     "data": {
      "image/png": "[encoded data removed]",
      "text/plain": [
       "<Figure size 576x432 with 1 Axes>"
      ]
     },
     "metadata": {},
     "output_type": "display_data"
    }
   ],
   "source": [
    "# Age Distribution of patient who had Cancer\n",
    "df.Cancer.value_counts()\n",
    "df[df['Cancer']==1].Age.hist()\n",
    "plt.xlabel(\"Ages\")\n",
    "plt.ylabel(\"Frequency\")\n",
    "plt.title(\"Age Distribution Of Patients With Cancer\");"
   ]
  },
  {
   "cell_type": "markdown",
   "id": "efb5800f",
   "metadata": {},
   "source": [
    "Adult patients within the age range [20 to 40]  suffer from cancer than every patients in any other age ranges"
   ]
  },
  {
   "cell_type": "code",
   "execution_count": 24,
   "id": "b8961353",
   "metadata": {},
   "outputs": [
    {
     "data": {
      "text/html": [
       "<div>\n",
       "<style scoped>\n",
       "    .dataframe tbody tr th:only-of-type {\n",
       "        vertical-align: middle;\n",
       "    }\n",
       "\n",
       "    .dataframe tbody tr th {\n",
       "        vertical-align: top;\n",
       "    }\n",
       "\n",
       "    .dataframe thead th {\n",
       "        text-align: right;\n",
       "    }\n",
       "</style>\n",
       "<table border=\"1\" class=\"dataframe\">\n",
       "  <thead>\n",
       "    <tr style=\"text-align: right;\">\n",
       "      <th></th>\n",
       "      <th>Fatigue</th>\n",
       "    </tr>\n",
       "  </thead>\n",
       "  <tbody>\n",
       "    <tr>\n",
       "      <th>0</th>\n",
       "      <td>483</td>\n",
       "    </tr>\n",
       "    <tr>\n",
       "      <th>1</th>\n",
       "      <td>481</td>\n",
       "    </tr>\n",
       "  </tbody>\n",
       "</table>\n",
       "</div>"
      ],
      "text/plain": [
       "   Fatigue\n",
       "0      483\n",
       "1      481"
      ]
     },
     "execution_count": 24,
     "metadata": {},
     "output_type": "execute_result"
    }
   ],
   "source": [
    "# Cancer Patients with fatigue\n",
    "Canc_fat=df[df['Cancer']==1].Fatigue.value_counts()\n",
    "Canc_fat.to_frame()"
   ]
  },
  {
   "cell_type": "code",
   "execution_count": 25,
   "id": "ee9bbcb5",
   "metadata": {},
   "outputs": [
    {
     "data": {
      "image/png": "[encoded data removed]",
      "text/plain": [
       "<Figure size 576x432 with 1 Axes>"
      ]
     },
     "metadata": {},
     "output_type": "display_data"
    }
   ],
   "source": [
    "Canc_fat.plot.pie(autopct = '%1.1f%%')\n",
    "plt.title(' Distribution Of Cancer Patient with Fatigue ');"
   ]
  },
  {
   "cell_type": "markdown",
   "id": "747e392f",
   "metadata": {},
   "source": [
    "Patients without fatigue suffers from cancer than patients with fatigue"
   ]
  },
  {
   "cell_type": "code",
   "execution_count": 26,
   "id": "90462846",
   "metadata": {},
   "outputs": [
    {
     "data": {
      "text/html": [
       "<div>\n",
       "<style scoped>\n",
       "    .dataframe tbody tr th:only-of-type {\n",
       "        vertical-align: middle;\n",
       "    }\n",
       "\n",
       "    .dataframe tbody tr th {\n",
       "        vertical-align: top;\n",
       "    }\n",
       "\n",
       "    .dataframe thead th {\n",
       "        text-align: right;\n",
       "    }\n",
       "</style>\n",
       "<table border=\"1\" class=\"dataframe\">\n",
       "  <thead>\n",
       "    <tr style=\"text-align: right;\">\n",
       "      <th></th>\n",
       "      <th>Allergy</th>\n",
       "    </tr>\n",
       "  </thead>\n",
       "  <tbody>\n",
       "    <tr>\n",
       "      <th>1</th>\n",
       "      <td>488</td>\n",
       "    </tr>\n",
       "    <tr>\n",
       "      <th>0</th>\n",
       "      <td>476</td>\n",
       "    </tr>\n",
       "  </tbody>\n",
       "</table>\n",
       "</div>"
      ],
      "text/plain": [
       "   Allergy\n",
       "1      488\n",
       "0      476"
      ]
     },
     "execution_count": 26,
     "metadata": {},
     "output_type": "execute_result"
    }
   ],
   "source": [
    "# Cancer Patients with Allergies\n",
    "Canc_all=df[df['Cancer']==1].Allergy.value_counts()\n",
    "Canc_all.to_frame()"
   ]
  },
  {
   "cell_type": "code",
   "execution_count": 27,
   "id": "a1d1e76a",
   "metadata": {},
   "outputs": [
    {
     "data": {
      "image/png": "[encoded data removed]",
      "text/plain": [
       "<Figure size 576x432 with 1 Axes>"
      ]
     },
     "metadata": {},
     "output_type": "display_data"
    }
   ],
   "source": [
    "Canc_all.plot.pie(autopct = '%1.1f%%')\n",
    "plt.title(' Distribution Of Cancer Patient with Allergies ');"
   ]
  },
  {
   "cell_type": "markdown",
   "id": "a7eac794",
   "metadata": {},
   "source": [
    "Patients with Allergies suffers from cancer than patients without Allergies"
   ]
  },
  {
   "cell_type": "code",
   "execution_count": 28,
   "id": "c9bc2cb8",
   "metadata": {},
   "outputs": [
    {
     "data": {
      "text/html": [
       "<div>\n",
       "<style scoped>\n",
       "    .dataframe tbody tr th:only-of-type {\n",
       "        vertical-align: middle;\n",
       "    }\n",
       "\n",
       "    .dataframe tbody tr th {\n",
       "        vertical-align: top;\n",
       "    }\n",
       "\n",
       "    .dataframe thead th {\n",
       "        text-align: right;\n",
       "    }\n",
       "</style>\n",
       "<table border=\"1\" class=\"dataframe\">\n",
       "  <thead>\n",
       "    <tr style=\"text-align: right;\">\n",
       "      <th></th>\n",
       "      <th>Smoking</th>\n",
       "    </tr>\n",
       "  </thead>\n",
       "  <tbody>\n",
       "    <tr>\n",
       "      <th>0</th>\n",
       "      <td>488</td>\n",
       "    </tr>\n",
       "    <tr>\n",
       "      <th>1</th>\n",
       "      <td>476</td>\n",
       "    </tr>\n",
       "  </tbody>\n",
       "</table>\n",
       "</div>"
      ],
      "text/plain": [
       "   Smoking\n",
       "0      488\n",
       "1      476"
      ]
     },
     "execution_count": 28,
     "metadata": {},
     "output_type": "execute_result"
    }
   ],
   "source": [
    "# Cancer Patients with Smoking Status\n",
    "Canc_smo=df[df['Cancer']==1].Smoking.value_counts()\n",
    "Canc_smo.to_frame()"
   ]
  },
  {
   "cell_type": "code",
   "execution_count": 29,
   "id": "6e34fcdf",
   "metadata": {},
   "outputs": [
    {
     "data": {
      "image/png": "[encoded data removed]",
      "text/plain": [
       "<Figure size 576x432 with 1 Axes>"
      ]
     },
     "metadata": {},
     "output_type": "display_data"
    }
   ],
   "source": [
    "Canc_smo.plot.pie(autopct = '%1.1f%%')\n",
    "plt.title(' Distribution Of Cancer Patient with Smoking Status ');"
   ]
  },
  {
   "cell_type": "markdown",
   "id": "3048ce61",
   "metadata": {},
   "source": [
    "Patients who do not smoke suffer from cancer than patients who smoke"
   ]
  },
  {
   "cell_type": "code",
   "execution_count": 30,
   "id": "6b0edb89",
   "metadata": {},
   "outputs": [
    {
     "name": "stdout",
     "output_type": "stream",
     "text": [
      "The expected Probability of Cancer is: 0.0964\n"
     ]
    }
   ],
   "source": [
    "# Average Cancer Rate\n",
    "mean = df.Cancer.mean()\n",
    "print('The expected Probability of Cancer is:', mean)"
   ]
  },
  {
   "cell_type": "code",
   "execution_count": 31,
   "id": "498f0d8b",
   "metadata": {},
   "outputs": [
    {
     "data": {
      "image/png": "[encoded data removed]",
      "text/plain": [
       "<Figure size 576x432 with 1 Axes>"
      ]
     },
     "metadata": {},
     "output_type": "display_data"
    }
   ],
   "source": [
    "# Gender Distribution of Patients with Cancer\n",
    "df[df['Cancer']==1].Gender.value_counts(normalize=True).plot.bar()\n",
    "plt.xlabel(\"Gender\")\n",
    "plt.ylabel(\"Proportion\")\n",
    "plt.title('Gender proportion [Cancer patients]')\n",
    "plt.xticks(rotation=0);"
   ]
  },
  {
   "cell_type": "markdown",
   "id": "45dbb82a",
   "metadata": {},
   "source": [
    " From the above chart, male patients suffer from cancer than female patients"
   ]
  },
  {
   "cell_type": "code",
   "execution_count": 32,
   "id": "d42083dd",
   "metadata": {},
   "outputs": [
    {
     "name": "stdout",
     "output_type": "stream",
     "text": [
      "percentage of male with stroke: 10.07\n",
      "percentage of female with stroke: 9.21\n"
     ]
    }
   ],
   "source": [
    "prop_female_stroke=(458/4975)*100\n",
    "prop_male_stroke=(506/5025)*100\n",
    "print(f'percentage of male with stroke: {round(prop_male_stroke, 2)}')\n",
    "print(f'percentage of female with stroke: {round(prop_female_stroke, 2)}')"
   ]
  },
  {
   "cell_type": "code",
   "execution_count": 33,
   "id": "2e96a17d",
   "metadata": {},
   "outputs": [
    {
     "data": {
      "text/html": [
       "<div>\n",
       "<style scoped>\n",
       "    .dataframe tbody tr th:only-of-type {\n",
       "        vertical-align: middle;\n",
       "    }\n",
       "\n",
       "    .dataframe tbody tr th {\n",
       "        vertical-align: top;\n",
       "    }\n",
       "\n",
       "    .dataframe thead th {\n",
       "        text-align: right;\n",
       "    }\n",
       "</style>\n",
       "<table border=\"1\" class=\"dataframe\">\n",
       "  <thead>\n",
       "    <tr style=\"text-align: right;\">\n",
       "      <th></th>\n",
       "      <th>Cancer</th>\n",
       "    </tr>\n",
       "    <tr>\n",
       "      <th>Gender</th>\n",
       "      <th></th>\n",
       "    </tr>\n",
       "  </thead>\n",
       "  <tbody>\n",
       "    <tr>\n",
       "      <th>0</th>\n",
       "      <td>0.100697</td>\n",
       "    </tr>\n",
       "    <tr>\n",
       "      <th>1</th>\n",
       "      <td>0.092060</td>\n",
       "    </tr>\n",
       "  </tbody>\n",
       "</table>\n",
       "</div>"
      ],
      "text/plain": [
       "          Cancer\n",
       "Gender          \n",
       "0       0.100697\n",
       "1       0.092060"
      ]
     },
     "execution_count": 33,
     "metadata": {},
     "output_type": "execute_result"
    }
   ],
   "source": [
    "# cancer rate per gender\n",
    "df.groupby('Gender').aggregate({'Cancer':'mean'})"
   ]
  },
  {
   "cell_type": "markdown",
   "id": "5f701459",
   "metadata": {},
   "source": [
    "male patients has higher rate of getting cancer than female patients"
   ]
  },
  {
   "cell_type": "code",
   "execution_count": 34,
   "id": "fc2e0d95",
   "metadata": {},
   "outputs": [
    {
     "data": {
      "image/png": "[encoded data removed]",
      "text/plain": [
       "<Figure size 576x432 with 1 Axes>"
      ]
     },
     "metadata": {},
     "output_type": "display_data"
    }
   ],
   "source": [
    "# Cancer rate per Age Distribution\n",
    "df.groupby('Age').aggregate({'Cancer':'mean'}).plot();"
   ]
  },
  {
   "cell_type": "markdown",
   "id": "1ffd00bf",
   "metadata": {},
   "source": [
    "# Performing more analysis on the dataset"
   ]
  },
  {
   "cell_type": "code",
   "execution_count": 35,
   "id": "61e0573d",
   "metadata": {},
   "outputs": [
    {
     "data": {
      "text/html": [
       "<div>\n",
       "<style scoped>\n",
       "    .dataframe tbody tr th:only-of-type {\n",
       "        vertical-align: middle;\n",
       "    }\n",
       "\n",
       "    .dataframe tbody tr th {\n",
       "        vertical-align: top;\n",
       "    }\n",
       "\n",
       "    .dataframe thead th {\n",
       "        text-align: right;\n",
       "    }\n",
       "</style>\n",
       "<table border=\"1\" class=\"dataframe\">\n",
       "  <thead>\n",
       "    <tr style=\"text-align: right;\">\n",
       "      <th></th>\n",
       "      <th>Gender</th>\n",
       "      <th>Age</th>\n",
       "      <th>Smoking</th>\n",
       "      <th>Fatigue</th>\n",
       "      <th>Allergy</th>\n",
       "      <th>Cancer</th>\n",
       "    </tr>\n",
       "  </thead>\n",
       "  <tbody>\n",
       "    <tr>\n",
       "      <th>326</th>\n",
       "      <td>1</td>\n",
       "      <td>18</td>\n",
       "      <td>0</td>\n",
       "      <td>0</td>\n",
       "      <td>1</td>\n",
       "      <td>1</td>\n",
       "    </tr>\n",
       "    <tr>\n",
       "      <th>583</th>\n",
       "      <td>1</td>\n",
       "      <td>18</td>\n",
       "      <td>1</td>\n",
       "      <td>0</td>\n",
       "      <td>1</td>\n",
       "      <td>1</td>\n",
       "    </tr>\n",
       "    <tr>\n",
       "      <th>1634</th>\n",
       "      <td>0</td>\n",
       "      <td>19</td>\n",
       "      <td>0</td>\n",
       "      <td>0</td>\n",
       "      <td>0</td>\n",
       "      <td>1</td>\n",
       "    </tr>\n",
       "    <tr>\n",
       "      <th>2243</th>\n",
       "      <td>0</td>\n",
       "      <td>18</td>\n",
       "      <td>0</td>\n",
       "      <td>1</td>\n",
       "      <td>1</td>\n",
       "      <td>1</td>\n",
       "    </tr>\n",
       "    <tr>\n",
       "      <th>2511</th>\n",
       "      <td>0</td>\n",
       "      <td>18</td>\n",
       "      <td>1</td>\n",
       "      <td>0</td>\n",
       "      <td>1</td>\n",
       "      <td>1</td>\n",
       "    </tr>\n",
       "    <tr>\n",
       "      <th>2526</th>\n",
       "      <td>1</td>\n",
       "      <td>18</td>\n",
       "      <td>0</td>\n",
       "      <td>0</td>\n",
       "      <td>0</td>\n",
       "      <td>1</td>\n",
       "    </tr>\n",
       "    <tr>\n",
       "      <th>3339</th>\n",
       "      <td>0</td>\n",
       "      <td>18</td>\n",
       "      <td>0</td>\n",
       "      <td>1</td>\n",
       "      <td>1</td>\n",
       "      <td>1</td>\n",
       "    </tr>\n",
       "    <tr>\n",
       "      <th>3346</th>\n",
       "      <td>0</td>\n",
       "      <td>19</td>\n",
       "      <td>1</td>\n",
       "      <td>0</td>\n",
       "      <td>0</td>\n",
       "      <td>1</td>\n",
       "    </tr>\n",
       "    <tr>\n",
       "      <th>3528</th>\n",
       "      <td>0</td>\n",
       "      <td>18</td>\n",
       "      <td>0</td>\n",
       "      <td>1</td>\n",
       "      <td>0</td>\n",
       "      <td>1</td>\n",
       "    </tr>\n",
       "    <tr>\n",
       "      <th>4038</th>\n",
       "      <td>0</td>\n",
       "      <td>18</td>\n",
       "      <td>1</td>\n",
       "      <td>0</td>\n",
       "      <td>0</td>\n",
       "      <td>1</td>\n",
       "    </tr>\n",
       "    <tr>\n",
       "      <th>4474</th>\n",
       "      <td>0</td>\n",
       "      <td>19</td>\n",
       "      <td>0</td>\n",
       "      <td>1</td>\n",
       "      <td>0</td>\n",
       "      <td>1</td>\n",
       "    </tr>\n",
       "    <tr>\n",
       "      <th>4614</th>\n",
       "      <td>0</td>\n",
       "      <td>19</td>\n",
       "      <td>0</td>\n",
       "      <td>1</td>\n",
       "      <td>1</td>\n",
       "      <td>1</td>\n",
       "    </tr>\n",
       "    <tr>\n",
       "      <th>4854</th>\n",
       "      <td>1</td>\n",
       "      <td>19</td>\n",
       "      <td>0</td>\n",
       "      <td>0</td>\n",
       "      <td>0</td>\n",
       "      <td>1</td>\n",
       "    </tr>\n",
       "    <tr>\n",
       "      <th>5991</th>\n",
       "      <td>1</td>\n",
       "      <td>18</td>\n",
       "      <td>0</td>\n",
       "      <td>1</td>\n",
       "      <td>0</td>\n",
       "      <td>1</td>\n",
       "    </tr>\n",
       "    <tr>\n",
       "      <th>6386</th>\n",
       "      <td>0</td>\n",
       "      <td>19</td>\n",
       "      <td>0</td>\n",
       "      <td>1</td>\n",
       "      <td>1</td>\n",
       "      <td>1</td>\n",
       "    </tr>\n",
       "    <tr>\n",
       "      <th>7748</th>\n",
       "      <td>1</td>\n",
       "      <td>18</td>\n",
       "      <td>1</td>\n",
       "      <td>0</td>\n",
       "      <td>1</td>\n",
       "      <td>1</td>\n",
       "    </tr>\n",
       "    <tr>\n",
       "      <th>8370</th>\n",
       "      <td>1</td>\n",
       "      <td>19</td>\n",
       "      <td>1</td>\n",
       "      <td>1</td>\n",
       "      <td>0</td>\n",
       "      <td>1</td>\n",
       "    </tr>\n",
       "    <tr>\n",
       "      <th>8729</th>\n",
       "      <td>1</td>\n",
       "      <td>18</td>\n",
       "      <td>1</td>\n",
       "      <td>1</td>\n",
       "      <td>1</td>\n",
       "      <td>1</td>\n",
       "    </tr>\n",
       "    <tr>\n",
       "      <th>9184</th>\n",
       "      <td>1</td>\n",
       "      <td>19</td>\n",
       "      <td>0</td>\n",
       "      <td>1</td>\n",
       "      <td>0</td>\n",
       "      <td>1</td>\n",
       "    </tr>\n",
       "  </tbody>\n",
       "</table>\n",
       "</div>"
      ],
      "text/plain": [
       "      Gender  Age  Smoking  Fatigue  Allergy  Cancer\n",
       "326        1   18        0        0        1       1\n",
       "583        1   18        1        0        1       1\n",
       "1634       0   19        0        0        0       1\n",
       "2243       0   18        0        1        1       1\n",
       "2511       0   18        1        0        1       1\n",
       "2526       1   18        0        0        0       1\n",
       "3339       0   18        0        1        1       1\n",
       "3346       0   19        1        0        0       1\n",
       "3528       0   18        0        1        0       1\n",
       "4038       0   18        1        0        0       1\n",
       "4474       0   19        0        1        0       1\n",
       "4614       0   19        0        1        1       1\n",
       "4854       1   19        0        0        0       1\n",
       "5991       1   18        0        1        0       1\n",
       "6386       0   19        0        1        1       1\n",
       "7748       1   18        1        0        1       1\n",
       "8370       1   19        1        1        0       1\n",
       "8729       1   18        1        1        1       1\n",
       "9184       1   19        0        1        0       1"
      ]
     },
     "execution_count": 35,
     "metadata": {},
     "output_type": "execute_result"
    }
   ],
   "source": [
    "d = df[ (df['Cancer']==1) & (df['Age']<=19)]\n",
    "d"
   ]
  },
  {
   "cell_type": "markdown",
   "id": "5a54731d",
   "metadata": {},
   "source": [
    "##### Nineteen teenage Patients has Cancer which is very sad"
   ]
  },
  {
   "cell_type": "code",
   "execution_count": 36,
   "id": "60b2f99c",
   "metadata": {},
   "outputs": [
    {
     "name": "stdout",
     "output_type": "stream",
     "text": [
      "The Percentage  teenage Patients with Cancer: 1.97%.\n"
     ]
    }
   ],
   "source": [
    "#Lets now find theier proportion out of the total cancer Patients\n",
    "teen_age = (19/964)*100\n",
    "print(f\"The Percentage  teenage Patients with Cancer: {round(teen_age, 2)}%.\")"
   ]
  },
  {
   "cell_type": "code",
   "execution_count": 37,
   "id": "0f8f1747",
   "metadata": {},
   "outputs": [
    {
     "data": {
      "text/html": [
       "<div>\n",
       "<style scoped>\n",
       "    .dataframe tbody tr th:only-of-type {\n",
       "        vertical-align: middle;\n",
       "    }\n",
       "\n",
       "    .dataframe tbody tr th {\n",
       "        vertical-align: top;\n",
       "    }\n",
       "\n",
       "    .dataframe thead th {\n",
       "        text-align: right;\n",
       "    }\n",
       "</style>\n",
       "<table border=\"1\" class=\"dataframe\">\n",
       "  <thead>\n",
       "    <tr style=\"text-align: right;\">\n",
       "      <th></th>\n",
       "      <th>Gender</th>\n",
       "      <th>Age</th>\n",
       "      <th>Smoking</th>\n",
       "      <th>Fatigue</th>\n",
       "      <th>Allergy</th>\n",
       "      <th>Cancer</th>\n",
       "    </tr>\n",
       "  </thead>\n",
       "  <tbody>\n",
       "    <tr>\n",
       "      <th>4</th>\n",
       "      <td>1</td>\n",
       "      <td>95</td>\n",
       "      <td>1</td>\n",
       "      <td>0</td>\n",
       "      <td>1</td>\n",
       "      <td>1</td>\n",
       "    </tr>\n",
       "    <tr>\n",
       "      <th>37</th>\n",
       "      <td>1</td>\n",
       "      <td>63</td>\n",
       "      <td>1</td>\n",
       "      <td>0</td>\n",
       "      <td>0</td>\n",
       "      <td>1</td>\n",
       "    </tr>\n",
       "    <tr>\n",
       "      <th>47</th>\n",
       "      <td>1</td>\n",
       "      <td>71</td>\n",
       "      <td>0</td>\n",
       "      <td>0</td>\n",
       "      <td>1</td>\n",
       "      <td>1</td>\n",
       "    </tr>\n",
       "    <tr>\n",
       "      <th>64</th>\n",
       "      <td>0</td>\n",
       "      <td>95</td>\n",
       "      <td>1</td>\n",
       "      <td>0</td>\n",
       "      <td>0</td>\n",
       "      <td>1</td>\n",
       "    </tr>\n",
       "    <tr>\n",
       "      <th>76</th>\n",
       "      <td>0</td>\n",
       "      <td>83</td>\n",
       "      <td>0</td>\n",
       "      <td>1</td>\n",
       "      <td>1</td>\n",
       "      <td>1</td>\n",
       "    </tr>\n",
       "    <tr>\n",
       "      <th>...</th>\n",
       "      <td>...</td>\n",
       "      <td>...</td>\n",
       "      <td>...</td>\n",
       "      <td>...</td>\n",
       "      <td>...</td>\n",
       "      <td>...</td>\n",
       "    </tr>\n",
       "    <tr>\n",
       "      <th>9864</th>\n",
       "      <td>0</td>\n",
       "      <td>72</td>\n",
       "      <td>0</td>\n",
       "      <td>0</td>\n",
       "      <td>1</td>\n",
       "      <td>1</td>\n",
       "    </tr>\n",
       "    <tr>\n",
       "      <th>9877</th>\n",
       "      <td>0</td>\n",
       "      <td>76</td>\n",
       "      <td>0</td>\n",
       "      <td>1</td>\n",
       "      <td>0</td>\n",
       "      <td>1</td>\n",
       "    </tr>\n",
       "    <tr>\n",
       "      <th>9884</th>\n",
       "      <td>1</td>\n",
       "      <td>97</td>\n",
       "      <td>0</td>\n",
       "      <td>0</td>\n",
       "      <td>1</td>\n",
       "      <td>1</td>\n",
       "    </tr>\n",
       "    <tr>\n",
       "      <th>9891</th>\n",
       "      <td>0</td>\n",
       "      <td>65</td>\n",
       "      <td>1</td>\n",
       "      <td>1</td>\n",
       "      <td>0</td>\n",
       "      <td>1</td>\n",
       "    </tr>\n",
       "    <tr>\n",
       "      <th>9894</th>\n",
       "      <td>0</td>\n",
       "      <td>89</td>\n",
       "      <td>1</td>\n",
       "      <td>1</td>\n",
       "      <td>0</td>\n",
       "      <td>1</td>\n",
       "    </tr>\n",
       "  </tbody>\n",
       "</table>\n",
       "<p>466 rows × 6 columns</p>\n",
       "</div>"
      ],
      "text/plain": [
       "      Gender  Age  Smoking  Fatigue  Allergy  Cancer\n",
       "4          1   95        1        0        1       1\n",
       "37         1   63        1        0        0       1\n",
       "47         1   71        0        0        1       1\n",
       "64         0   95        1        0        0       1\n",
       "76         0   83        0        1        1       1\n",
       "...      ...  ...      ...      ...      ...     ...\n",
       "9864       0   72        0        0        1       1\n",
       "9877       0   76        0        1        0       1\n",
       "9884       1   97        0        0        1       1\n",
       "9891       0   65        1        1        0       1\n",
       "9894       0   89        1        1        0       1\n",
       "\n",
       "[466 rows x 6 columns]"
      ]
     },
     "execution_count": 37,
     "metadata": {},
     "output_type": "execute_result"
    }
   ],
   "source": [
    "d = df[ (df['Cancer']==1) & (df['Age']>=60)]\n",
    "d"
   ]
  },
  {
   "cell_type": "markdown",
   "id": "196a1f81",
   "metadata": {},
   "source": [
    "##### 466 Old Age Patients suffers from cancer.  "
   ]
  },
  {
   "cell_type": "code",
   "execution_count": 38,
   "id": "8c62e6cc",
   "metadata": {},
   "outputs": [
    {
     "name": "stdout",
     "output_type": "stream",
     "text": [
      "The Percentage Old Age Patients with Cancer: 48.34%.\n"
     ]
    }
   ],
   "source": [
    "#Lets now find theier proportion out of the total cancer Patients\n",
    "old_age = (466/964)*100\n",
    "print(f\"The Percentage Old Age Patients with Cancer: {round(old_age,2)}%.\")"
   ]
  },
  {
   "cell_type": "code",
   "execution_count": 39,
   "id": "5362b74f",
   "metadata": {},
   "outputs": [
    {
     "name": "stdout",
     "output_type": "stream",
     "text": [
      "The Percentage Old Age Patients with Cancer: 51.66%.\n"
     ]
    }
   ],
   "source": [
    "#Lets now find theier proportion out of the total cancer Patients\n",
    "adult_age = ((964-466)/964)*100\n",
    "print(f\"The Percentage Old Age Patients with Cancer: {round(adult_age,2)}%.\")"
   ]
  },
  {
   "cell_type": "markdown",
   "id": "1173bc2e",
   "metadata": {},
   "source": [
    "##### We Can see that Majority of the Cancer Patient are below Old Age (60)"
   ]
  },
  {
   "cell_type": "markdown",
   "id": "85831c9b",
   "metadata": {},
   "source": [
    "### Lets do some further Masking Analysis"
   ]
  },
  {
   "cell_type": "code",
   "execution_count": 40,
   "id": "fa070b1b",
   "metadata": {},
   "outputs": [
    {
     "data": {
      "text/html": [
       "<div>\n",
       "<style scoped>\n",
       "    .dataframe tbody tr th:only-of-type {\n",
       "        vertical-align: middle;\n",
       "    }\n",
       "\n",
       "    .dataframe tbody tr th {\n",
       "        vertical-align: top;\n",
       "    }\n",
       "\n",
       "    .dataframe thead th {\n",
       "        text-align: right;\n",
       "    }\n",
       "</style>\n",
       "<table border=\"1\" class=\"dataframe\">\n",
       "  <thead>\n",
       "    <tr style=\"text-align: right;\">\n",
       "      <th></th>\n",
       "      <th>Gender</th>\n",
       "      <th>Age</th>\n",
       "      <th>Smoking</th>\n",
       "      <th>Fatigue</th>\n",
       "      <th>Allergy</th>\n",
       "      <th>Cancer</th>\n",
       "    </tr>\n",
       "  </thead>\n",
       "  <tbody>\n",
       "    <tr>\n",
       "      <th>1188</th>\n",
       "      <td>1</td>\n",
       "      <td>23</td>\n",
       "      <td>1</td>\n",
       "      <td>1</td>\n",
       "      <td>1</td>\n",
       "      <td>1</td>\n",
       "    </tr>\n",
       "    <tr>\n",
       "      <th>2086</th>\n",
       "      <td>1</td>\n",
       "      <td>25</td>\n",
       "      <td>1</td>\n",
       "      <td>1</td>\n",
       "      <td>1</td>\n",
       "      <td>1</td>\n",
       "    </tr>\n",
       "    <tr>\n",
       "      <th>2286</th>\n",
       "      <td>1</td>\n",
       "      <td>20</td>\n",
       "      <td>1</td>\n",
       "      <td>1</td>\n",
       "      <td>1</td>\n",
       "      <td>1</td>\n",
       "    </tr>\n",
       "    <tr>\n",
       "      <th>4125</th>\n",
       "      <td>1</td>\n",
       "      <td>23</td>\n",
       "      <td>1</td>\n",
       "      <td>1</td>\n",
       "      <td>1</td>\n",
       "      <td>1</td>\n",
       "    </tr>\n",
       "    <tr>\n",
       "      <th>6040</th>\n",
       "      <td>1</td>\n",
       "      <td>24</td>\n",
       "      <td>1</td>\n",
       "      <td>1</td>\n",
       "      <td>1</td>\n",
       "      <td>1</td>\n",
       "    </tr>\n",
       "    <tr>\n",
       "      <th>8729</th>\n",
       "      <td>1</td>\n",
       "      <td>18</td>\n",
       "      <td>1</td>\n",
       "      <td>1</td>\n",
       "      <td>1</td>\n",
       "      <td>1</td>\n",
       "    </tr>\n",
       "    <tr>\n",
       "      <th>8795</th>\n",
       "      <td>1</td>\n",
       "      <td>21</td>\n",
       "      <td>1</td>\n",
       "      <td>1</td>\n",
       "      <td>1</td>\n",
       "      <td>1</td>\n",
       "    </tr>\n",
       "  </tbody>\n",
       "</table>\n",
       "</div>"
      ],
      "text/plain": [
       "      Gender  Age  Smoking  Fatigue  Allergy  Cancer\n",
       "1188       1   23        1        1        1       1\n",
       "2086       1   25        1        1        1       1\n",
       "2286       1   20        1        1        1       1\n",
       "4125       1   23        1        1        1       1\n",
       "6040       1   24        1        1        1       1\n",
       "8729       1   18        1        1        1       1\n",
       "8795       1   21        1        1        1       1"
      ]
     },
     "execution_count": 40,
     "metadata": {},
     "output_type": "execute_result"
    }
   ],
   "source": [
    "d = df[(df['Gender'] == 1) & (df['Allergy'] == 1) & (df['Smoking']==1) & (df['Fatigue']==1) & (df['Cancer']==1) & (df['Age']<=25)]\n",
    "d"
   ]
  },
  {
   "cell_type": "markdown",
   "id": "bcabdd0b",
   "metadata": {},
   "source": [
    "##### seven female patients at Age 25 and less smokes, have allergies,fatigue and Cancer.\n"
   ]
  },
  {
   "cell_type": "code",
   "execution_count": 41,
   "id": "6bd21000",
   "metadata": {},
   "outputs": [
    {
     "data": {
      "text/html": [
       "<div>\n",
       "<style scoped>\n",
       "    .dataframe tbody tr th:only-of-type {\n",
       "        vertical-align: middle;\n",
       "    }\n",
       "\n",
       "    .dataframe tbody tr th {\n",
       "        vertical-align: top;\n",
       "    }\n",
       "\n",
       "    .dataframe thead th {\n",
       "        text-align: right;\n",
       "    }\n",
       "</style>\n",
       "<table border=\"1\" class=\"dataframe\">\n",
       "  <thead>\n",
       "    <tr style=\"text-align: right;\">\n",
       "      <th></th>\n",
       "      <th>Gender</th>\n",
       "      <th>Age</th>\n",
       "      <th>Smoking</th>\n",
       "      <th>Fatigue</th>\n",
       "      <th>Allergy</th>\n",
       "      <th>Cancer</th>\n",
       "    </tr>\n",
       "  </thead>\n",
       "  <tbody>\n",
       "    <tr>\n",
       "      <th>1157</th>\n",
       "      <td>0</td>\n",
       "      <td>25</td>\n",
       "      <td>1</td>\n",
       "      <td>1</td>\n",
       "      <td>1</td>\n",
       "      <td>1</td>\n",
       "    </tr>\n",
       "    <tr>\n",
       "      <th>6858</th>\n",
       "      <td>0</td>\n",
       "      <td>21</td>\n",
       "      <td>1</td>\n",
       "      <td>1</td>\n",
       "      <td>1</td>\n",
       "      <td>1</td>\n",
       "    </tr>\n",
       "    <tr>\n",
       "      <th>7545</th>\n",
       "      <td>0</td>\n",
       "      <td>21</td>\n",
       "      <td>1</td>\n",
       "      <td>1</td>\n",
       "      <td>1</td>\n",
       "      <td>1</td>\n",
       "    </tr>\n",
       "    <tr>\n",
       "      <th>9976</th>\n",
       "      <td>0</td>\n",
       "      <td>23</td>\n",
       "      <td>1</td>\n",
       "      <td>1</td>\n",
       "      <td>1</td>\n",
       "      <td>1</td>\n",
       "    </tr>\n",
       "  </tbody>\n",
       "</table>\n",
       "</div>"
      ],
      "text/plain": [
       "      Gender  Age  Smoking  Fatigue  Allergy  Cancer\n",
       "1157       0   25        1        1        1       1\n",
       "6858       0   21        1        1        1       1\n",
       "7545       0   21        1        1        1       1\n",
       "9976       0   23        1        1        1       1"
      ]
     },
     "execution_count": 41,
     "metadata": {},
     "output_type": "execute_result"
    }
   ],
   "source": [
    "df[(df['Gender'] == 0) & (df['Allergy'] == 1) & (df['Smoking']==1) & (df['Fatigue']==1) & (df['Cancer']==1) & (df['Age']<=25)]"
   ]
  },
  {
   "cell_type": "markdown",
   "id": "f52e448a",
   "metadata": {},
   "source": [
    "##### four male patients, with their Ages less than 25 smokes, have allergies,fatigue and Cancer.\n"
   ]
  },
  {
   "cell_type": "code",
   "execution_count": 42,
   "id": "d401c763",
   "metadata": {},
   "outputs": [
    {
     "data": {
      "text/html": [
       "<div>\n",
       "<style scoped>\n",
       "    .dataframe tbody tr th:only-of-type {\n",
       "        vertical-align: middle;\n",
       "    }\n",
       "\n",
       "    .dataframe tbody tr th {\n",
       "        vertical-align: top;\n",
       "    }\n",
       "\n",
       "    .dataframe thead th {\n",
       "        text-align: right;\n",
       "    }\n",
       "</style>\n",
       "<table border=\"1\" class=\"dataframe\">\n",
       "  <thead>\n",
       "    <tr style=\"text-align: right;\">\n",
       "      <th></th>\n",
       "      <th>Gender</th>\n",
       "      <th>Age</th>\n",
       "      <th>Smoking</th>\n",
       "      <th>Fatigue</th>\n",
       "      <th>Allergy</th>\n",
       "      <th>Cancer</th>\n",
       "    </tr>\n",
       "  </thead>\n",
       "  <tbody>\n",
       "    <tr>\n",
       "      <th>65</th>\n",
       "      <td>1</td>\n",
       "      <td>27</td>\n",
       "      <td>1</td>\n",
       "      <td>0</td>\n",
       "      <td>1</td>\n",
       "      <td>1</td>\n",
       "    </tr>\n",
       "    <tr>\n",
       "      <th>80</th>\n",
       "      <td>1</td>\n",
       "      <td>33</td>\n",
       "      <td>1</td>\n",
       "      <td>0</td>\n",
       "      <td>0</td>\n",
       "      <td>1</td>\n",
       "    </tr>\n",
       "    <tr>\n",
       "      <th>86</th>\n",
       "      <td>1</td>\n",
       "      <td>45</td>\n",
       "      <td>1</td>\n",
       "      <td>0</td>\n",
       "      <td>0</td>\n",
       "      <td>1</td>\n",
       "    </tr>\n",
       "    <tr>\n",
       "      <th>93</th>\n",
       "      <td>1</td>\n",
       "      <td>31</td>\n",
       "      <td>1</td>\n",
       "      <td>0</td>\n",
       "      <td>1</td>\n",
       "      <td>1</td>\n",
       "    </tr>\n",
       "    <tr>\n",
       "      <th>182</th>\n",
       "      <td>1</td>\n",
       "      <td>41</td>\n",
       "      <td>1</td>\n",
       "      <td>1</td>\n",
       "      <td>0</td>\n",
       "      <td>1</td>\n",
       "    </tr>\n",
       "    <tr>\n",
       "      <th>...</th>\n",
       "      <td>...</td>\n",
       "      <td>...</td>\n",
       "      <td>...</td>\n",
       "      <td>...</td>\n",
       "      <td>...</td>\n",
       "      <td>...</td>\n",
       "    </tr>\n",
       "    <tr>\n",
       "      <th>9156</th>\n",
       "      <td>1</td>\n",
       "      <td>32</td>\n",
       "      <td>1</td>\n",
       "      <td>0</td>\n",
       "      <td>1</td>\n",
       "      <td>1</td>\n",
       "    </tr>\n",
       "    <tr>\n",
       "      <th>9499</th>\n",
       "      <td>1</td>\n",
       "      <td>27</td>\n",
       "      <td>1</td>\n",
       "      <td>1</td>\n",
       "      <td>0</td>\n",
       "      <td>1</td>\n",
       "    </tr>\n",
       "    <tr>\n",
       "      <th>9634</th>\n",
       "      <td>1</td>\n",
       "      <td>22</td>\n",
       "      <td>1</td>\n",
       "      <td>1</td>\n",
       "      <td>0</td>\n",
       "      <td>1</td>\n",
       "    </tr>\n",
       "    <tr>\n",
       "      <th>9937</th>\n",
       "      <td>1</td>\n",
       "      <td>28</td>\n",
       "      <td>1</td>\n",
       "      <td>1</td>\n",
       "      <td>0</td>\n",
       "      <td>1</td>\n",
       "    </tr>\n",
       "    <tr>\n",
       "      <th>9987</th>\n",
       "      <td>1</td>\n",
       "      <td>34</td>\n",
       "      <td>1</td>\n",
       "      <td>0</td>\n",
       "      <td>1</td>\n",
       "      <td>1</td>\n",
       "    </tr>\n",
       "  </tbody>\n",
       "</table>\n",
       "<p>84 rows × 6 columns</p>\n",
       "</div>"
      ],
      "text/plain": [
       "      Gender  Age  Smoking  Fatigue  Allergy  Cancer\n",
       "65         1   27        1        0        1       1\n",
       "80         1   33        1        0        0       1\n",
       "86         1   45        1        0        0       1\n",
       "93         1   31        1        0        1       1\n",
       "182        1   41        1        1        0       1\n",
       "...      ...  ...      ...      ...      ...     ...\n",
       "9156       1   32        1        0        1       1\n",
       "9499       1   27        1        1        0       1\n",
       "9634       1   22        1        1        0       1\n",
       "9937       1   28        1        1        0       1\n",
       "9987       1   34        1        0        1       1\n",
       "\n",
       "[84 rows x 6 columns]"
      ]
     },
     "execution_count": 42,
     "metadata": {},
     "output_type": "execute_result"
    }
   ],
   "source": [
    "df[(df['Gender'] == 1) & (df['Smoking']==1)  & (df['Cancer']==1) & (df['Age']<=45)]"
   ]
  },
  {
   "cell_type": "markdown",
   "id": "1ec3ef69",
   "metadata": {},
   "source": [
    "##### Eighty-four female Patients less than forty-five years of Age smokes and suffers from Cancer."
   ]
  },
  {
   "cell_type": "code",
   "execution_count": 43,
   "id": "7f24c9c7",
   "metadata": {},
   "outputs": [
    {
     "data": {
      "text/html": [
       "<div>\n",
       "<style scoped>\n",
       "    .dataframe tbody tr th:only-of-type {\n",
       "        vertical-align: middle;\n",
       "    }\n",
       "\n",
       "    .dataframe tbody tr th {\n",
       "        vertical-align: top;\n",
       "    }\n",
       "\n",
       "    .dataframe thead th {\n",
       "        text-align: right;\n",
       "    }\n",
       "</style>\n",
       "<table border=\"1\" class=\"dataframe\">\n",
       "  <thead>\n",
       "    <tr style=\"text-align: right;\">\n",
       "      <th></th>\n",
       "      <th>Gender</th>\n",
       "      <th>Age</th>\n",
       "      <th>Smoking</th>\n",
       "      <th>Fatigue</th>\n",
       "      <th>Allergy</th>\n",
       "      <th>Cancer</th>\n",
       "    </tr>\n",
       "  </thead>\n",
       "  <tbody>\n",
       "    <tr>\n",
       "      <th>4</th>\n",
       "      <td>1</td>\n",
       "      <td>95</td>\n",
       "      <td>1</td>\n",
       "      <td>0</td>\n",
       "      <td>1</td>\n",
       "      <td>1</td>\n",
       "    </tr>\n",
       "    <tr>\n",
       "      <th>37</th>\n",
       "      <td>1</td>\n",
       "      <td>63</td>\n",
       "      <td>1</td>\n",
       "      <td>0</td>\n",
       "      <td>0</td>\n",
       "      <td>1</td>\n",
       "    </tr>\n",
       "    <tr>\n",
       "      <th>64</th>\n",
       "      <td>0</td>\n",
       "      <td>95</td>\n",
       "      <td>1</td>\n",
       "      <td>0</td>\n",
       "      <td>0</td>\n",
       "      <td>1</td>\n",
       "    </tr>\n",
       "    <tr>\n",
       "      <th>78</th>\n",
       "      <td>1</td>\n",
       "      <td>63</td>\n",
       "      <td>1</td>\n",
       "      <td>0</td>\n",
       "      <td>1</td>\n",
       "      <td>1</td>\n",
       "    </tr>\n",
       "    <tr>\n",
       "      <th>214</th>\n",
       "      <td>0</td>\n",
       "      <td>91</td>\n",
       "      <td>1</td>\n",
       "      <td>1</td>\n",
       "      <td>1</td>\n",
       "      <td>1</td>\n",
       "    </tr>\n",
       "    <tr>\n",
       "      <th>...</th>\n",
       "      <td>...</td>\n",
       "      <td>...</td>\n",
       "      <td>...</td>\n",
       "      <td>...</td>\n",
       "      <td>...</td>\n",
       "      <td>...</td>\n",
       "    </tr>\n",
       "    <tr>\n",
       "      <th>9743</th>\n",
       "      <td>0</td>\n",
       "      <td>74</td>\n",
       "      <td>1</td>\n",
       "      <td>0</td>\n",
       "      <td>1</td>\n",
       "      <td>1</td>\n",
       "    </tr>\n",
       "    <tr>\n",
       "      <th>9808</th>\n",
       "      <td>0</td>\n",
       "      <td>86</td>\n",
       "      <td>1</td>\n",
       "      <td>1</td>\n",
       "      <td>0</td>\n",
       "      <td>1</td>\n",
       "    </tr>\n",
       "    <tr>\n",
       "      <th>9852</th>\n",
       "      <td>1</td>\n",
       "      <td>85</td>\n",
       "      <td>1</td>\n",
       "      <td>0</td>\n",
       "      <td>0</td>\n",
       "      <td>1</td>\n",
       "    </tr>\n",
       "    <tr>\n",
       "      <th>9891</th>\n",
       "      <td>0</td>\n",
       "      <td>65</td>\n",
       "      <td>1</td>\n",
       "      <td>1</td>\n",
       "      <td>0</td>\n",
       "      <td>1</td>\n",
       "    </tr>\n",
       "    <tr>\n",
       "      <th>9894</th>\n",
       "      <td>0</td>\n",
       "      <td>89</td>\n",
       "      <td>1</td>\n",
       "      <td>1</td>\n",
       "      <td>0</td>\n",
       "      <td>1</td>\n",
       "    </tr>\n",
       "  </tbody>\n",
       "</table>\n",
       "<p>243 rows × 6 columns</p>\n",
       "</div>"
      ],
      "text/plain": [
       "      Gender  Age  Smoking  Fatigue  Allergy  Cancer\n",
       "4          1   95        1        0        1       1\n",
       "37         1   63        1        0        0       1\n",
       "64         0   95        1        0        0       1\n",
       "78         1   63        1        0        1       1\n",
       "214        0   91        1        1        1       1\n",
       "...      ...  ...      ...      ...      ...     ...\n",
       "9743       0   74        1        0        1       1\n",
       "9808       0   86        1        1        0       1\n",
       "9852       1   85        1        0        0       1\n",
       "9891       0   65        1        1        0       1\n",
       "9894       0   89        1        1        0       1\n",
       "\n",
       "[243 rows x 6 columns]"
      ]
     },
     "execution_count": 43,
     "metadata": {},
     "output_type": "execute_result"
    }
   ],
   "source": [
    "df[(df['Smoking']==1)  & (df['Cancer']==1) & (df['Age']>=60)]"
   ]
  },
  {
   "cell_type": "markdown",
   "id": "bdda1d85",
   "metadata": {},
   "source": [
    "##### Two-hundred and forty-three old Age patients Smokes and suffers from Cancer."
   ]
  },
  {
   "cell_type": "code",
   "execution_count": 44,
   "id": "a88c8346",
   "metadata": {},
   "outputs": [
    {
     "data": {
      "text/html": [
       "<div>\n",
       "<style scoped>\n",
       "    .dataframe tbody tr th:only-of-type {\n",
       "        vertical-align: middle;\n",
       "    }\n",
       "\n",
       "    .dataframe tbody tr th {\n",
       "        vertical-align: top;\n",
       "    }\n",
       "\n",
       "    .dataframe thead th {\n",
       "        text-align: right;\n",
       "    }\n",
       "</style>\n",
       "<table border=\"1\" class=\"dataframe\">\n",
       "  <thead>\n",
       "    <tr style=\"text-align: right;\">\n",
       "      <th></th>\n",
       "      <th>Gender</th>\n",
       "      <th>Age</th>\n",
       "      <th>Smoking</th>\n",
       "      <th>Fatigue</th>\n",
       "      <th>Allergy</th>\n",
       "      <th>Cancer</th>\n",
       "    </tr>\n",
       "  </thead>\n",
       "  <tbody>\n",
       "    <tr>\n",
       "      <th>257</th>\n",
       "      <td>0</td>\n",
       "      <td>50</td>\n",
       "      <td>0</td>\n",
       "      <td>0</td>\n",
       "      <td>0</td>\n",
       "      <td>0</td>\n",
       "    </tr>\n",
       "    <tr>\n",
       "      <th>945</th>\n",
       "      <td>0</td>\n",
       "      <td>50</td>\n",
       "      <td>0</td>\n",
       "      <td>0</td>\n",
       "      <td>0</td>\n",
       "      <td>0</td>\n",
       "    </tr>\n",
       "    <tr>\n",
       "      <th>1580</th>\n",
       "      <td>0</td>\n",
       "      <td>50</td>\n",
       "      <td>0</td>\n",
       "      <td>0</td>\n",
       "      <td>0</td>\n",
       "      <td>0</td>\n",
       "    </tr>\n",
       "    <tr>\n",
       "      <th>2866</th>\n",
       "      <td>0</td>\n",
       "      <td>50</td>\n",
       "      <td>0</td>\n",
       "      <td>0</td>\n",
       "      <td>0</td>\n",
       "      <td>0</td>\n",
       "    </tr>\n",
       "    <tr>\n",
       "      <th>4340</th>\n",
       "      <td>0</td>\n",
       "      <td>50</td>\n",
       "      <td>0</td>\n",
       "      <td>0</td>\n",
       "      <td>0</td>\n",
       "      <td>0</td>\n",
       "    </tr>\n",
       "    <tr>\n",
       "      <th>4386</th>\n",
       "      <td>0</td>\n",
       "      <td>50</td>\n",
       "      <td>0</td>\n",
       "      <td>1</td>\n",
       "      <td>0</td>\n",
       "      <td>0</td>\n",
       "    </tr>\n",
       "    <tr>\n",
       "      <th>4456</th>\n",
       "      <td>0</td>\n",
       "      <td>50</td>\n",
       "      <td>0</td>\n",
       "      <td>0</td>\n",
       "      <td>0</td>\n",
       "      <td>0</td>\n",
       "    </tr>\n",
       "    <tr>\n",
       "      <th>5801</th>\n",
       "      <td>0</td>\n",
       "      <td>50</td>\n",
       "      <td>0</td>\n",
       "      <td>1</td>\n",
       "      <td>0</td>\n",
       "      <td>0</td>\n",
       "    </tr>\n",
       "    <tr>\n",
       "      <th>6248</th>\n",
       "      <td>0</td>\n",
       "      <td>50</td>\n",
       "      <td>0</td>\n",
       "      <td>1</td>\n",
       "      <td>0</td>\n",
       "      <td>0</td>\n",
       "    </tr>\n",
       "    <tr>\n",
       "      <th>6929</th>\n",
       "      <td>0</td>\n",
       "      <td>50</td>\n",
       "      <td>0</td>\n",
       "      <td>0</td>\n",
       "      <td>0</td>\n",
       "      <td>0</td>\n",
       "    </tr>\n",
       "    <tr>\n",
       "      <th>6957</th>\n",
       "      <td>0</td>\n",
       "      <td>50</td>\n",
       "      <td>0</td>\n",
       "      <td>0</td>\n",
       "      <td>0</td>\n",
       "      <td>0</td>\n",
       "    </tr>\n",
       "    <tr>\n",
       "      <th>9069</th>\n",
       "      <td>0</td>\n",
       "      <td>50</td>\n",
       "      <td>0</td>\n",
       "      <td>0</td>\n",
       "      <td>0</td>\n",
       "      <td>0</td>\n",
       "    </tr>\n",
       "    <tr>\n",
       "      <th>9280</th>\n",
       "      <td>0</td>\n",
       "      <td>50</td>\n",
       "      <td>0</td>\n",
       "      <td>1</td>\n",
       "      <td>0</td>\n",
       "      <td>0</td>\n",
       "    </tr>\n",
       "    <tr>\n",
       "      <th>9311</th>\n",
       "      <td>0</td>\n",
       "      <td>50</td>\n",
       "      <td>0</td>\n",
       "      <td>1</td>\n",
       "      <td>0</td>\n",
       "      <td>0</td>\n",
       "    </tr>\n",
       "    <tr>\n",
       "      <th>9861</th>\n",
       "      <td>0</td>\n",
       "      <td>50</td>\n",
       "      <td>0</td>\n",
       "      <td>1</td>\n",
       "      <td>0</td>\n",
       "      <td>0</td>\n",
       "    </tr>\n",
       "  </tbody>\n",
       "</table>\n",
       "</div>"
      ],
      "text/plain": [
       "      Gender  Age  Smoking  Fatigue  Allergy  Cancer\n",
       "257        0   50        0        0        0       0\n",
       "945        0   50        0        0        0       0\n",
       "1580       0   50        0        0        0       0\n",
       "2866       0   50        0        0        0       0\n",
       "4340       0   50        0        0        0       0\n",
       "4386       0   50        0        1        0       0\n",
       "4456       0   50        0        0        0       0\n",
       "5801       0   50        0        1        0       0\n",
       "6248       0   50        0        1        0       0\n",
       "6929       0   50        0        0        0       0\n",
       "6957       0   50        0        0        0       0\n",
       "9069       0   50        0        0        0       0\n",
       "9280       0   50        0        1        0       0\n",
       "9311       0   50        0        1        0       0\n",
       "9861       0   50        0        1        0       0"
      ]
     },
     "execution_count": 44,
     "metadata": {},
     "output_type": "execute_result"
    }
   ],
   "source": [
    "df[(df['Gender'] == 0) & (df['Smoking']==0)  & (df['Allergy']==0) & (df['Age']==50)]"
   ]
  },
  {
   "cell_type": "markdown",
   "id": "c623d449",
   "metadata": {},
   "source": [
    "##### Fifteen male Patients at Age fifty do not smoke and have Allergy."
   ]
  },
  {
   "cell_type": "code",
   "execution_count": 45,
   "id": "09257b18",
   "metadata": {},
   "outputs": [
    {
     "data": {
      "text/plain": [
       "<AxesSubplot:>"
      ]
     },
     "execution_count": 45,
     "metadata": {},
     "output_type": "execute_result"
    },
    {
     "data": {
      "image/png": "[encoded data removed]",
      "text/plain": [
       "<Figure size 576x432 with 2 Axes>"
      ]
     },
     "metadata": {},
     "output_type": "display_data"
    }
   ],
   "source": [
    "# Correlatiuon of features \n",
    "correlation=df.corr()\n",
    "# Visualizing\n",
    "sns.heatmap(correlation,cmap = 'Blues',annot= True)"
   ]
  },
  {
   "cell_type": "markdown",
   "id": "498b4574",
   "metadata": {},
   "source": [
    "###### Because there is a very week correlation between the target variable('Cancer') and the independent variables, the data wouldn't fit well with linear models such as Logistic regression model .In this Case we use non-linear models like decision trees or Random Forest"
   ]
  },
  {
   "cell_type": "code",
   "execution_count": 46,
   "id": "407f50ed",
   "metadata": {},
   "outputs": [
    {
     "name": "stdout",
     "output_type": "stream",
     "text": [
      "X shape: (10000, 5) \n",
      "y shape: (10000,)\n"
     ]
    }
   ],
   "source": [
    "X = df.drop(columns=['Cancer'])                      \n",
    "y = df['Cancer']\n",
    "\n",
    "print('X shape:', X.shape, '\\ny shape:', y.shape)"
   ]
  },
  {
   "cell_type": "code",
   "execution_count": 47,
   "id": "215a107b",
   "metadata": {},
   "outputs": [
    {
     "data": {
      "text/html": [
       "<div>\n",
       "<style scoped>\n",
       "    .dataframe tbody tr th:only-of-type {\n",
       "        vertical-align: middle;\n",
       "    }\n",
       "\n",
       "    .dataframe tbody tr th {\n",
       "        vertical-align: top;\n",
       "    }\n",
       "\n",
       "    .dataframe thead th {\n",
       "        text-align: right;\n",
       "    }\n",
       "</style>\n",
       "<table border=\"1\" class=\"dataframe\">\n",
       "  <thead>\n",
       "    <tr style=\"text-align: right;\">\n",
       "      <th></th>\n",
       "      <th>Gender</th>\n",
       "      <th>Age</th>\n",
       "      <th>Smoking</th>\n",
       "      <th>Fatigue</th>\n",
       "      <th>Allergy</th>\n",
       "    </tr>\n",
       "  </thead>\n",
       "  <tbody>\n",
       "    <tr>\n",
       "      <th>0</th>\n",
       "      <td>1</td>\n",
       "      <td>85</td>\n",
       "      <td>1</td>\n",
       "      <td>0</td>\n",
       "      <td>1</td>\n",
       "    </tr>\n",
       "    <tr>\n",
       "      <th>1</th>\n",
       "      <td>1</td>\n",
       "      <td>93</td>\n",
       "      <td>0</td>\n",
       "      <td>0</td>\n",
       "      <td>0</td>\n",
       "    </tr>\n",
       "    <tr>\n",
       "      <th>2</th>\n",
       "      <td>1</td>\n",
       "      <td>72</td>\n",
       "      <td>0</td>\n",
       "      <td>1</td>\n",
       "      <td>0</td>\n",
       "    </tr>\n",
       "    <tr>\n",
       "      <th>3</th>\n",
       "      <td>0</td>\n",
       "      <td>58</td>\n",
       "      <td>0</td>\n",
       "      <td>0</td>\n",
       "      <td>1</td>\n",
       "    </tr>\n",
       "    <tr>\n",
       "      <th>4</th>\n",
       "      <td>1</td>\n",
       "      <td>95</td>\n",
       "      <td>1</td>\n",
       "      <td>0</td>\n",
       "      <td>1</td>\n",
       "    </tr>\n",
       "  </tbody>\n",
       "</table>\n",
       "</div>"
      ],
      "text/plain": [
       "   Gender  Age  Smoking  Fatigue  Allergy\n",
       "0       1   85        1        0        1\n",
       "1       1   93        0        0        0\n",
       "2       1   72        0        1        0\n",
       "3       0   58        0        0        1\n",
       "4       1   95        1        0        1"
      ]
     },
     "execution_count": 47,
     "metadata": {},
     "output_type": "execute_result"
    }
   ],
   "source": [
    "X.head()"
   ]
  },
  {
   "cell_type": "code",
   "execution_count": 48,
   "id": "cec58c87",
   "metadata": {},
   "outputs": [
    {
     "name": "stdout",
     "output_type": "stream",
     "text": [
      "X_train shape: (8000, 5)\n",
      "y_train shape: (8000,)\n",
      "X_test shape: (2000, 5)\n",
      "y_test shape: (2000,)\n"
     ]
    }
   ],
   "source": [
    "# Split the data into training and test data\n",
    "X_train, X_test, y_train, y_test = train_test_split(X, y, test_size = 0.2, random_state = 42)\n",
    "\n",
    "print(\"X_train shape:\", X_train.shape)\n",
    "print(\"y_train shape:\", y_train.shape)\n",
    "print(\"X_test shape:\", X_test.shape)\n",
    "print(\"y_test shape:\", y_test.shape)"
   ]
  },
  {
   "cell_type": "markdown",
   "id": "cab10e65",
   "metadata": {},
   "source": [
    "# Building the model"
   ]
  },
  {
   "cell_type": "markdown",
   "id": "ed4cfe98",
   "metadata": {},
   "source": [
    "### Baseline"
   ]
  },
  {
   "cell_type": "code",
   "execution_count": 49,
   "id": "957f2289",
   "metadata": {},
   "outputs": [
    {
     "name": "stdout",
     "output_type": "stream",
     "text": [
      "The baseline accuracy is  90.225 %\n"
     ]
    }
   ],
   "source": [
    "# Calculating the baseline accuracy\n",
    "acc_baseline = y_train.value_counts(normalize = True).max()\n",
    "print('The baseline accuracy is ', round(acc_baseline * 100, 4), '%')"
   ]
  },
  {
   "cell_type": "markdown",
   "id": "32d7b9b7",
   "metadata": {},
   "source": [
    "### Iterate"
   ]
  },
  {
   "cell_type": "markdown",
   "id": "d24bacd7",
   "metadata": {},
   "source": [
    "Using GridSearchCv to get the best hyperparameter for the model"
   ]
  },
  {
   "cell_type": "code",
   "execution_count": 50,
   "id": "c47ca227",
   "metadata": {},
   "outputs": [
    {
     "data": {
      "text/plain": [
       "{'max_depth': range(25, 100, 25),\n",
       " 'n_estimators': range(10, 50, 10),\n",
       " 'min_samples_split': [5, 10, 15],\n",
       " 'min_samples_leaf': [1, 2, 3],\n",
       " 'max_features': ['sqrt', 'log2']}"
      ]
     },
     "execution_count": 50,
     "metadata": {},
     "output_type": "execute_result"
    }
   ],
   "source": [
    "# Creating a dictionary with range of hyperparameters for hyperparameter tunning\n",
    "params = {\n",
    "    \"max_depth\": range(25, 100, 25),  # Maximum depth of each tree\n",
    "    \"n_estimators\": range(10,50,10), # Number of trees in the forest\n",
    "    'min_samples_split':[5, 10, 15],# Minimum number of samples required to split a node\n",
    "    'min_samples_leaf':[1, 2, 3],  # Minimum nuber of samples required at each leaf node\n",
    "    'max_features':['sqrt','log2'], # Number of features to consider\n",
    "}\n",
    "params"
   ]
  },
  {
   "cell_type": "code",
   "execution_count": 51,
   "id": "a1add4fd",
   "metadata": {},
   "outputs": [
    {
     "data": {
      "text/plain": [
       "GridSearchCV(cv=5, estimator=RandomForestClassifier(random_state=42), n_jobs=-1,\n",
       "             param_grid={'max_depth': range(25, 100, 25),\n",
       "                         'max_features': ['sqrt', 'log2'],\n",
       "                         'min_samples_leaf': [1, 2, 3],\n",
       "                         'min_samples_split': [5, 10, 15],\n",
       "                         'n_estimators': range(10, 50, 10)},\n",
       "             scoring='accuracy', verbose=1)"
      ]
     },
     "execution_count": 51,
     "metadata": {},
     "output_type": "execute_result"
    }
   ],
   "source": [
    "# Creating GridSearchCv to get the best hyperparameters for the model\n",
    "model = GridSearchCV(\n",
    "    estimator=RandomForestClassifier(random_state=42),\n",
    "    param_grid = params,\n",
    "    cv = 5, # Number of cross validations\n",
    "    scoring='accuracy',\n",
    "    n_jobs = -1, \n",
    "    verbose = 1\n",
    ")\n",
    "model"
   ]
  },
  {
   "cell_type": "code",
   "execution_count": 52,
   "id": "f9985796",
   "metadata": {},
   "outputs": [
    {
     "data": {
      "text/plain": [
       "0    7218\n",
       "1     782\n",
       "Name: Cancer, dtype: int64"
      ]
     },
     "execution_count": 52,
     "metadata": {},
     "output_type": "execute_result"
    }
   ],
   "source": [
    "y_train.value_counts()"
   ]
  },
  {
   "cell_type": "code",
   "execution_count": 53,
   "id": "bec1aed7",
   "metadata": {},
   "outputs": [
    {
     "data": {
      "image/png": "[encoded data removed]",
      "text/plain": [
       "<Figure size 576x432 with 1 Axes>"
      ]
     },
     "metadata": {},
     "output_type": "display_data"
    }
   ],
   "source": [
    "y_train.value_counts().plot.barh()\n",
    "plt.ylabel(\"Class\")\n",
    "plt.xlabel(\"Frequency Counts\")\n",
    "plt.title(\"Distribution of Classes\")\n",
    "plt.xticks(rotation=0)\n",
    "plt.yticks(ticks=[0, 1], labels=[\"Majority\", \"Minority\"]);"
   ]
  },
  {
   "cell_type": "markdown",
   "id": "3f998cb8",
   "metadata": {},
   "source": [
    "Models tend to perform better on the majority class simply because there's more data available for that class. This can lead to a bias where the model predominantly predicts the majority class, often at the expense of the minority class accuracy.\n",
    "We will therefore Oversample minority class and undersample majority classes to balance the class distribution."
   ]
  },
  {
   "cell_type": "code",
   "execution_count": 54,
   "id": "a42d3bee",
   "metadata": {},
   "outputs": [],
   "source": [
    "# peforming OverSampling on the training data\n",
    "ros = RandomOverSampler()\n",
    "X_train_over, y_train_over = ros.fit_resample(X_train, y_train)"
   ]
  },
  {
   "cell_type": "code",
   "execution_count": 55,
   "id": "c9e220af",
   "metadata": {},
   "outputs": [],
   "source": [
    "# Performing UnderSampling on the Training data\n",
    "rus = RandomUnderSampler()\n",
    "X_train_under, y_train_under = rus.fit_resample(X_train ,y_train)"
   ]
  },
  {
   "cell_type": "code",
   "execution_count": 56,
   "id": "7ce6c055",
   "metadata": {},
   "outputs": [
    {
     "name": "stdout",
     "output_type": "stream",
     "text": [
      "X-over: (14436, 5) \n",
      "y-over: (14436,)\n",
      "X-under: (1564, 5) \n",
      "y-under: (1564,)\n"
     ]
    }
   ],
   "source": [
    "# Printing the shape of our resampled data\n",
    "print('X-over:',X_train_over.shape, \"\\ny-over:\", y_train_over.shape)\n",
    "print('X-under:',X_train_under.shape, \"\\ny-under:\", y_train_under.shape)"
   ]
  },
  {
   "cell_type": "code",
   "execution_count": 57,
   "id": "1181ed55",
   "metadata": {},
   "outputs": [
    {
     "data": {
      "text/plain": [
       "0    7218\n",
       "1    7218\n",
       "Name: Cancer, dtype: int64"
      ]
     },
     "execution_count": 57,
     "metadata": {},
     "output_type": "execute_result"
    }
   ],
   "source": [
    "y_train_over.value_counts()"
   ]
  },
  {
   "cell_type": "code",
   "execution_count": 58,
   "id": "b2361dde",
   "metadata": {},
   "outputs": [
    {
     "data": {
      "image/png": "[encoded data removed]",
      "text/plain": [
       "<Figure size 576x432 with 1 Axes>"
      ]
     },
     "metadata": {},
     "output_type": "display_data"
    }
   ],
   "source": [
    "y_train_over.value_counts().plot.barh()\n",
    "plt.ylabel(\"Class\")\n",
    "plt.xlabel(\"Frequency Counts\")\n",
    "plt.title(\"Distribution of Classes[Oversampled]\")\n",
    "plt.xticks(rotation=0);"
   ]
  },
  {
   "cell_type": "code",
   "execution_count": 59,
   "id": "dbc9e6c4",
   "metadata": {},
   "outputs": [
    {
     "data": {
      "text/plain": [
       "0    782\n",
       "1    782\n",
       "Name: Cancer, dtype: int64"
      ]
     },
     "execution_count": 59,
     "metadata": {},
     "output_type": "execute_result"
    }
   ],
   "source": [
    "y_train_under.value_counts()"
   ]
  },
  {
   "cell_type": "code",
   "execution_count": 60,
   "id": "29053e85",
   "metadata": {},
   "outputs": [
    {
     "data": {
      "image/png": "[encoded data removed]",
      "text/plain": [
       "<Figure size 576x432 with 1 Axes>"
      ]
     },
     "metadata": {},
     "output_type": "display_data"
    }
   ],
   "source": [
    "y_train_under.value_counts().plot.barh()\n",
    "plt.ylabel(\"Class\")\n",
    "plt.xlabel(\"Frequency Counts\")\n",
    "plt.title(\"Distribution of Classes[Undersampled]\")\n",
    "plt.xticks(rotation=0);"
   ]
  },
  {
   "cell_type": "code",
   "execution_count": 61,
   "id": "bf1aca6a",
   "metadata": {},
   "outputs": [
    {
     "data": {
      "text/plain": [
       "0    1818\n",
       "1     182\n",
       "Name: Cancer, dtype: int64"
      ]
     },
     "execution_count": 61,
     "metadata": {},
     "output_type": "execute_result"
    }
   ],
   "source": [
    "y_test.value_counts()"
   ]
  },
  {
   "cell_type": "code",
   "execution_count": 62,
   "id": "db041b33",
   "metadata": {},
   "outputs": [
    {
     "name": "stdout",
     "output_type": "stream",
     "text": [
      "Fitting 5 folds for each of 216 candidates, totalling 1080 fits\n"
     ]
    }
   ],
   "source": [
    "# fitting the model in our training dataset\n",
    "model=model.fit(X_train,y_train)"
   ]
  },
  {
   "cell_type": "code",
   "execution_count": 63,
   "id": "d2b75a0e",
   "metadata": {},
   "outputs": [
    {
     "data": {
      "text/plain": [
       "{'max_depth': 25,\n",
       " 'max_features': 'sqrt',\n",
       " 'min_samples_leaf': 3,\n",
       " 'min_samples_split': 15,\n",
       " 'n_estimators': 30}"
      ]
     },
     "execution_count": 63,
     "metadata": {},
     "output_type": "execute_result"
    }
   ],
   "source": [
    "# finding the best params for the model\n",
    "best_params= model.best_params_\n",
    "best_params"
   ]
  },
  {
   "cell_type": "code",
   "execution_count": 64,
   "id": "03da5896",
   "metadata": {},
   "outputs": [
    {
     "data": {
      "text/plain": [
       "RandomForestClassifier(max_depth=25, max_features='sqrt', min_samples_leaf=3,\n",
       "                       min_samples_split=15, n_estimators=30, random_state=42)"
      ]
     },
     "execution_count": 64,
     "metadata": {},
     "output_type": "execute_result"
    }
   ],
   "source": [
    "# creating a new model with best params\n",
    "model_over = RandomForestClassifier(random_state = 42, **best_params)\n",
    "model_over.fit(X_train_over,y_train_over)"
   ]
  },
  {
   "cell_type": "code",
   "execution_count": 65,
   "id": "0dfc5769",
   "metadata": {},
   "outputs": [
    {
     "data": {
      "text/plain": [
       "RandomForestClassifier(max_depth=25, max_features='sqrt', min_samples_leaf=3,\n",
       "                       min_samples_split=15, n_estimators=30, random_state=42)"
      ]
     },
     "execution_count": 65,
     "metadata": {},
     "output_type": "execute_result"
    }
   ],
   "source": [
    "model_under=RandomForestClassifier(random_state = 42, **best_params)\n",
    "model_under.fit(X_train_under,y_train_under)"
   ]
  },
  {
   "cell_type": "markdown",
   "id": "5633faf9",
   "metadata": {},
   "source": [
    "### EVALUATION OF THE MODEL"
   ]
  },
  {
   "cell_type": "code",
   "execution_count": 66,
   "id": "a2a5a76a",
   "metadata": {},
   "outputs": [
    {
     "name": "stdout",
     "output_type": "stream",
     "text": [
      "Training accuracy for training data data: 90.225%\n",
      "Test accuracy: 90.9%\n"
     ]
    }
   ],
   "source": [
    "# Training and the test accuracy score on the normal  data\n",
    "training_acc = model.score(X_train,y_train)\n",
    "print(f\"Training accuracy for training data data: {round(training_acc* 100, 4) }%\")\n",
    "testing_acc = model.score(X_test,y_test)\n",
    "print(f\"Test accuracy: {testing_acc * 100}%\")"
   ]
  },
  {
   "cell_type": "code",
   "execution_count": 67,
   "id": "73309ad2",
   "metadata": {},
   "outputs": [
    {
     "name": "stdout",
     "output_type": "stream",
     "text": [
      "Training accuracy for Oversampled training data data: 77.9787%\n",
      "Test accuracy: 59.25%\n"
     ]
    }
   ],
   "source": [
    "# Training and Test accuracy score on the oversampled data\n",
    "training_acc_over = model_over.score(X_train_over, y_train_over)\n",
    "print(f\"Training accuracy for Oversampled training data data: {round(training_acc_over* 100, 4) }%\")\n",
    "testing_acc_over = model_over.score(X_test,y_test)\n",
    "print(f\"Test accuracy: {round(testing_acc_over * 100, 4)}%\")"
   ]
  },
  {
   "cell_type": "code",
   "execution_count": 68,
   "id": "59f3f55f",
   "metadata": {},
   "outputs": [
    {
     "name": "stdout",
     "output_type": "stream",
     "text": [
      "Training accuracy for Undersampled training data data: 61.2289%\n",
      "Test accuracy: (48, 4)%\n"
     ]
    }
   ],
   "source": [
    "# Training and Test accuracy score on the Undersampled data\n",
    "training_acc_under = model_under.score(X_train_over, y_train_over)\n",
    "print(f\"Training accuracy for Undersampled training data data: {round(training_acc_under* 100, 4) }%\")\n",
    "testing_acc_under = model_under.score(X_test,y_test)\n",
    "print(f\"Test accuracy: {round(testing_acc_under * 100), 4}%\")"
   ]
  },
  {
   "cell_type": "code",
   "execution_count": 69,
   "id": "bd6ec6f6",
   "metadata": {},
   "outputs": [
    {
     "data": {
      "text/plain": [
       "array([0, 0, 0, 0, 0, 0, 0, 0, 0, 0, 0, 0, 0, 0, 0, 0, 0, 0, 0, 0],\n",
       "      dtype=int64)"
      ]
     },
     "execution_count": 69,
     "metadata": {},
     "output_type": "execute_result"
    }
   ],
   "source": [
    "# predict the test data\n",
    "y_pred = model.predict(X_test)\n",
    "y_pred[:20]\n"
   ]
  },
  {
   "cell_type": "code",
   "execution_count": 70,
   "id": "a4115595",
   "metadata": {},
   "outputs": [
    {
     "data": {
      "text/plain": [
       "array([0, 1, 0, 1, 0, 0, 1, 1, 1, 0, 0, 1, 0, 1, 0, 1, 1, 0, 1, 0],\n",
       "      dtype=int64)"
      ]
     },
     "execution_count": 70,
     "metadata": {},
     "output_type": "execute_result"
    }
   ],
   "source": [
    "# Predicting the test data using the OverSampled model\n",
    "y_pred_over = model_over.predict(X_test)\n",
    "y_pred_over[:20]"
   ]
  },
  {
   "cell_type": "code",
   "execution_count": 71,
   "id": "f76767d1",
   "metadata": {},
   "outputs": [
    {
     "data": {
      "text/plain": [
       "array([0, 1, 0, 0, 0, 1, 1, 1, 1, 1, 1, 1, 0, 1, 1, 1, 1, 0, 1, 0],\n",
       "      dtype=int64)"
      ]
     },
     "execution_count": 71,
     "metadata": {},
     "output_type": "execute_result"
    }
   ],
   "source": [
    "# Predicting the test data using the Undersampled data\n",
    "y_pred_under = model_under.predict(X_test)\n",
    "y_pred_under[:20]"
   ]
  },
  {
   "cell_type": "code",
   "execution_count": 72,
   "id": "0a0182ee",
   "metadata": {},
   "outputs": [
    {
     "data": {
      "image/png": "[encoded data removed]",
      "text/plain": [
       "<Figure size 576x432 with 2 Axes>"
      ]
     },
     "metadata": {},
     "output_type": "display_data"
    }
   ],
   "source": [
    "# create a confusion matrix for model analysis\n",
    "ConfusionMatrixDisplay.from_estimator(model,X_test ,y_test );"
   ]
  },
  {
   "cell_type": "code",
   "execution_count": 73,
   "id": "54863388",
   "metadata": {},
   "outputs": [
    {
     "name": "stdout",
     "output_type": "stream",
     "text": [
      "F1 Score: 0.0000\n",
      "AUC-ROC Score: 0.4891\n",
      "Recall: 0.0000\n",
      "Precision: 0.0000\n"
     ]
    },
    {
     "name": "stderr",
     "output_type": "stream",
     "text": [
      "C:\\Users\\User\\anaconda3\\lib\\site-packages\\sklearn\\metrics\\_classification.py:1318: UndefinedMetricWarning: Precision is ill-defined and being set to 0.0 due to no predicted samples. Use `zero_division` parameter to control this behavior.\n",
      "  _warn_prf(average, modifier, msg_start, len(result))\n"
     ]
    }
   ],
   "source": [
    "y_pred_proba = model.predict_proba(X_test)[:, 1]\n",
    "# Calculate F1 score\n",
    "f1 = f1_score(y_test, y_pred)\n",
    "\n",
    "# Calculate AUC-ROC score\n",
    "auc_roc = roc_auc_score(y_test, y_pred_proba)\n",
    "\n",
    "# Calculate recall (also known as sensitivity or true positive rate)\n",
    "recall = recall_score(y_test, y_pred)\n",
    "\n",
    "# Calculate precision score\n",
    "precision = precision_score(y_test, y_pred)\n",
    "\n",
    "print(f\"F1 Score: {f1:.4f}\")\n",
    "print(f\"AUC-ROC Score: {auc_roc:.4f}\")\n",
    "print(f\"Recall: {recall:.4f}\")\n",
    "print(f\"Precision: {precision:.4f}\")"
   ]
  },
  {
   "cell_type": "markdown",
   "id": "e7205d3b",
   "metadata": {},
   "source": [
    "##### Although the training accuracy and the testing accuracy for the imbalanced model was high and good, We can see that the model was not able to predict  cancer patients.We could tell from the recall accuracy and the precision accuracy  which was 0% . We will therefore Consider the model built on the resampled training data.\n"
   ]
  },
  {
   "cell_type": "markdown",
   "id": "077da0f6",
   "metadata": {},
   "source": [
    "<div style= \"background-color: #fbceb1; padding: 10px;\">\n",
    "    <strong>Note!!!</strong>\n",
    "    <br>\n",
    "    We dont only base the performance of the model of an unbalanced data  on  the models training  and testing accuracy. Metrics like the F1 Scrore, AUC-SCORE, Recall and Precision can  also be used for the performance of the model \n",
    "    </div>"
   ]
  },
  {
   "cell_type": "code",
   "execution_count": 74,
   "id": "369ea828",
   "metadata": {},
   "outputs": [
    {
     "data": {
      "image/png": "[encoded data removed]",
      "text/plain": [
       "<Figure size 576x432 with 2 Axes>"
      ]
     },
     "metadata": {},
     "output_type": "display_data"
    }
   ],
   "source": [
    "# create a confusion matrix for model analysis\n",
    "ConfusionMatrixDisplay.from_estimator(model_over,X_test ,y_test );"
   ]
  },
  {
   "cell_type": "code",
   "execution_count": 75,
   "id": "9972f11d",
   "metadata": {},
   "outputs": [
    {
     "name": "stdout",
     "output_type": "stream",
     "text": [
      "F1 Score: 0.1376\n",
      "AUC-ROC Score: 0.4849\n",
      "Recall: 0.3571\n",
      "Precision: 0.0852\n"
     ]
    }
   ],
   "source": [
    "y_pred_proba = model_over.predict_proba(X_test)[:, 1]\n",
    "# Calculate F1 score\n",
    "f1 = f1_score(y_test, y_pred_over)\n",
    "\n",
    "# Calculate AUC-ROC score\n",
    "auc_roc = roc_auc_score(y_test, y_pred_proba)\n",
    "\n",
    "# Calculate recall (also known as sensitivity or true positive rate)\n",
    "recall = recall_score(y_test, y_pred_over)\n",
    "\n",
    "# Calculate precision score\n",
    "precision = precision_score(y_test, y_pred_over)\n",
    "\n",
    "print(f\"F1 Score: {f1:.4f}\")\n",
    "print(f\"AUC-ROC Score: {auc_roc:.4f}\")\n",
    "print(f\"Recall: {recall:.4f}\")\n",
    "print(f\"Precision: {precision:.4f}\")"
   ]
  },
  {
   "cell_type": "code",
   "execution_count": 76,
   "id": "b071485b",
   "metadata": {},
   "outputs": [
    {
     "data": {
      "image/png": "[encoded data removed]",
      "text/plain": [
       "<Figure size 576x432 with 2 Axes>"
      ]
     },
     "metadata": {},
     "output_type": "display_data"
    }
   ],
   "source": [
    "# create a confusion matrix for model analysis\n",
    "ConfusionMatrixDisplay.from_estimator(model_under,X_test ,y_test );"
   ]
  },
  {
   "cell_type": "code",
   "execution_count": 77,
   "id": "1758742e",
   "metadata": {},
   "outputs": [
    {
     "name": "stdout",
     "output_type": "stream",
     "text": [
      "F1 Score: 0.1386\n",
      "AUC-ROC Score: 0.5004\n",
      "Recall: 0.4560\n",
      "Precision: 0.0817\n"
     ]
    }
   ],
   "source": [
    "y_pred_proba = model_under.predict_proba(X_test)[:, 1]\n",
    "# Calculate F1 score\n",
    "f1 = f1_score(y_test, y_pred_under)\n",
    "\n",
    "# Calculate AUC-ROC score\n",
    "auc_roc = roc_auc_score(y_test, y_pred_proba)\n",
    "\n",
    "# Calculate recall (also known as sensitivity or true positive rate)\n",
    "recall = recall_score(y_test, y_pred_under)\n",
    "\n",
    "# Calculate precision score\n",
    "precision = precision_score(y_test, y_pred_under)\n",
    "\n",
    "print(f\"F1 Score: {f1:.4f}\")\n",
    "print(f\"AUC-ROC Score: {auc_roc:.4f}\")\n",
    "print(f\"Recall: {recall:.4f}\")\n",
    "print(f\"Precision: {precision:.4f}\")"
   ]
  },
  {
   "cell_type": "markdown",
   "id": "a2e17efb",
   "metadata": {},
   "source": [
    "##### Woow! We Can now see that the model was able to predict some cancer patients after using a balanced training data for our model.At this point,  I will consider  the model built on the oversampled data because  we can  see that both the training and testing accuracy of the model built on the oversampled training data is higher than that of the undersampled training data. "
   ]
  },
  {
   "cell_type": "markdown",
   "id": "6d485327",
   "metadata": {},
   "source": [
    "<div style= \"background-color: #fbceb1; padding: 10px;\">\n",
    "    <strong>Definitions</strong>\n",
    "    <br>\n",
    "    The F1 Score:\n",
    " It is a metric that combines precision and recall into single values\n",
    "\n",
    "AUC-ROC(Area Under the Receiver Operating Characteristic Curve): It is a performance metric that evaluates the ability of a model to distiguish between classes.\n",
    "A higher AUC-ROC value closer to ONE(1) indicate better discrimination between positive and negative \n",
    "classes.\n",
    "\n",
    "\n",
    "\n",
    "Recall(Sensitivity or True Positive Rate):\n",
    "Recall measures the proportion of actual positive instance that were correctly predicted by the model.\n",
    "A high recall value indicate that the model is effective at capyuring most of the positive instances,but\n",
    "it may come at the cost of higher false positives.\n",
    "\n",
    "\n",
    "Precision(Positive Predictive Value):\n",
    "Precision measures the proportion of predicted Positives instances that were correctly classified.\n",
    "A high precision value indicates that when the model predict a positive instance, It is likely to be correct.\n",
    "    </div>\n"
   ]
  },
  {
   "cell_type": "code",
   "execution_count": 78,
   "id": "0c936ad8",
   "metadata": {},
   "outputs": [
    {
     "name": "stdout",
     "output_type": "stream",
     "text": [
      "              precision    recall  f1-score   support\n",
      "\n",
      "           0       0.91      0.62      0.73      1818\n",
      "           1       0.09      0.36      0.14       182\n",
      "\n",
      "    accuracy                           0.59      2000\n",
      "   macro avg       0.50      0.49      0.44      2000\n",
      "weighted avg       0.83      0.59      0.68      2000\n",
      "\n"
     ]
    }
   ],
   "source": [
    "# Print classification report\n",
    "print(classification_report(y_test,model_over.predict(X_test)))"
   ]
  },
  {
   "cell_type": "code",
   "execution_count": 79,
   "id": "0ed04cf6",
   "metadata": {},
   "outputs": [
    {
     "data": {
      "application/vnd.jupyter.widget-view+json": {
       "model_id": "02247e92d39a435283a26219c7dea2fa",
       "version_major": 2,
       "version_minor": 0
      },
      "text/plain": [
       "interactive(children=(FloatSlider(value=0.5, description='threshold', max=1.0, step=0.05), Output()), _dom_cla…"
      ]
     },
     "metadata": {},
     "output_type": "display_data"
    }
   ],
   "source": [
    "def make_cnf_matrix(threshold):\n",
    "    y_pred_proba = model_over.predict_proba(X_test)[:,-1]\n",
    "    y_pred = y_pred_proba > threshold\n",
    "    conf_matrix = confusion_matrix(y_test, y_pred)\n",
    "    tn, fp, fn, tp = conf_matrix.ravel()\n",
    "    print(f\"profit: €{tp * 100_000_000}\")\n",
    "    print(f\"Losses: €{fp * 250_000_000}\")\n",
    "    ConfusionMatrixDisplay.from_predictions(y_test, y_pred)\n",
    "\n",
    "\n",
    "    \n",
    "thresh_widget = widgets.FloatSlider(min=0, max=1, value=0.5, step=0.05)\n",
    "\n",
    "interact(make_cnf_matrix, threshold=thresh_widget);"
   ]
  },
  {
   "cell_type": "markdown",
   "id": "3a6b6b2e",
   "metadata": {},
   "source": [
    "Suppose a model is used to predict whether a patient has cancer. If the model accurately identifies a patient as having cancer, and this diagnosis is correct, the hospital benefits significantly, gaining 100,000,000 dollars. This gain could be due to early treatment leading to better health outcomes, reduced long-term healthcare costs, or a reputation boost for the hospital. On the other hand, if the model incorrectly predicts cancer in a patient who does not have the disease, the hospital faces substantial losses, amounting to 250,000,000 dollars. These losses could stem from unnecessary treatments, legal implications, or damage to the hospital's reputation."
   ]
  },
  {
   "cell_type": "markdown",
   "id": "4ce211c0",
   "metadata": {},
   "source": [
    "To navigate this high-stakes scenario, the hospital can adjust the prediction model's threshold for classifying a patient as having cancer. This threshold adjustment is a strategic decision aimed at either maximizing the hospital's profit or minimizing its losses, based on the hospital's priorities and risk tolerance. The choice of threshold influences the model's sensitivity and specificity, directly impacting financial outcomes and patient care quality."
   ]
  },
  {
   "cell_type": "markdown",
   "id": "0f3cba62",
   "metadata": {},
   "source": [
    "## COMMUNICATION OF RESULT"
   ]
  },
  {
   "cell_type": "code",
   "execution_count": 80,
   "id": "8220e16f",
   "metadata": {},
   "outputs": [
    {
     "data": {
      "text/plain": [
       "['Gender', 'Age', 'Smoking', 'Fatigue', 'Allergy']"
      ]
     },
     "execution_count": 80,
     "metadata": {},
     "output_type": "execute_result"
    }
   ],
   "source": [
    "index_list = X_train.columns.tolist()\n",
    "index_list"
   ]
  },
  {
   "cell_type": "code",
   "execution_count": 81,
   "id": "bd9de6c6",
   "metadata": {},
   "outputs": [
    {
     "data": {
      "text/plain": [
       "[0.023029847163274553,\n",
       " 0.9005991979234751,\n",
       " 0.02878580251382412,\n",
       " 0.023140817389138542,\n",
       " 0.02444433501028776]"
      ]
     },
     "execution_count": 81,
     "metadata": {},
     "output_type": "execute_result"
    }
   ],
   "source": [
    "# Feature importance\n",
    "feat_imp = model_over.feature_importances_.tolist()\n",
    "feat_imp"
   ]
  },
  {
   "cell_type": "code",
   "execution_count": 82,
   "id": "31598607",
   "metadata": {},
   "outputs": [
    {
     "data": {
      "text/html": [
       "<div>\n",
       "<style scoped>\n",
       "    .dataframe tbody tr th:only-of-type {\n",
       "        vertical-align: middle;\n",
       "    }\n",
       "\n",
       "    .dataframe tbody tr th {\n",
       "        vertical-align: top;\n",
       "    }\n",
       "\n",
       "    .dataframe thead th {\n",
       "        text-align: right;\n",
       "    }\n",
       "</style>\n",
       "<table border=\"1\" class=\"dataframe\">\n",
       "  <thead>\n",
       "    <tr style=\"text-align: right;\">\n",
       "      <th></th>\n",
       "      <th>feature importance</th>\n",
       "    </tr>\n",
       "  </thead>\n",
       "  <tbody>\n",
       "    <tr>\n",
       "      <th>Gender</th>\n",
       "      <td>0.023030</td>\n",
       "    </tr>\n",
       "    <tr>\n",
       "      <th>Age</th>\n",
       "      <td>0.900599</td>\n",
       "    </tr>\n",
       "    <tr>\n",
       "      <th>Smoking</th>\n",
       "      <td>0.028786</td>\n",
       "    </tr>\n",
       "    <tr>\n",
       "      <th>Fatigue</th>\n",
       "      <td>0.023141</td>\n",
       "    </tr>\n",
       "    <tr>\n",
       "      <th>Allergy</th>\n",
       "      <td>0.024444</td>\n",
       "    </tr>\n",
       "  </tbody>\n",
       "</table>\n",
       "</div>"
      ],
      "text/plain": [
       "         feature importance\n",
       "Gender             0.023030\n",
       "Age                0.900599\n",
       "Smoking            0.028786\n",
       "Fatigue            0.023141\n",
       "Allergy            0.024444"
      ]
     },
     "execution_count": 82,
     "metadata": {},
     "output_type": "execute_result"
    }
   ],
   "source": [
    "# feature importance dataframe\n",
    "df_feat_imp = pd.DataFrame({'feature importance': feat_imp}, index=index_list)\n",
    "df_feat_imp"
   ]
  },
  {
   "cell_type": "code",
   "execution_count": 83,
   "id": "6f5f27d7",
   "metadata": {},
   "outputs": [
    {
     "data": {
      "image/png": "[encoded data removed]",
      "text/plain": [
       "<Figure size 576x432 with 1 Axes>"
      ]
     },
     "metadata": {},
     "output_type": "display_data"
    }
   ],
   "source": [
    "df_feat_imp.sort_values(by = 'feature importance', ascending=True).plot.barh(legend = False);\n",
    "\n",
    "# label axis\n",
    "plt.xlabel('gini importance')\n",
    "plt.ylabel('features')\n",
    "plt.title('Importance of features');"
   ]
  },
  {
   "cell_type": "markdown",
   "id": "9c26ba66",
   "metadata": {},
   "source": [
    "<div style= \"background-color: #fbceb1; padding: 10px;\">\n",
    "    <strong>Conclusion</strong>\n",
    "    <br>\n",
    "    The observation that `Age` has the most influence on the model's performance\" suggests that age is a significant factor in predicting the likelihood of cancer disease according to the model I've trained.The finding indicates that age plays a crucial role in determining the risk of cancer disease. It suggests that as individuals grow older, they might become more susceptible to cancer. This aligns with known medical literature, as cancer incidence tends to increase with age.\n",
    "    </div>"
   ]
  },
  {
   "cell_type": "markdown",
   "id": "49e3cb10",
   "metadata": {},
   "source": [
    "# MODEL DEPLOYMENT "
   ]
  },
  {
   "cell_type": "code",
   "execution_count": 84,
   "id": "30b37f86",
   "metadata": {},
   "outputs": [
    {
     "data": {
      "text/plain": [
       "array([0.44452267, 0.75930072, 0.12345005, ..., 0.06373021, 0.10655026,\n",
       "       0.        ])"
      ]
     },
     "execution_count": 84,
     "metadata": {},
     "output_type": "execute_result"
    }
   ],
   "source": [
    "model_over.predict_proba(X_test)[:,-1]"
   ]
  },
  {
   "cell_type": "code",
   "execution_count": 85,
   "id": "d3bfdbbd",
   "metadata": {},
   "outputs": [
    {
     "name": "stdout",
     "output_type": "stream",
     "text": [
      "Running on local URL:  http://127.0.0.1:7861\n",
      "\n",
      "To create a public link, set `share=True` in `launch()`.\n"
     ]
    },
    {
     "data": {
      "text/html": [
       "<div><iframe src=\"http://127.0.0.1:7861/\" width=\"100%\" height=\"500\" allow=\"autoplay; camera; microphone; clipboard-read; clipboard-write;\" frameborder=\"0\" allowfullscreen></iframe></div>"
      ],
      "text/plain": [
       "<IPython.core.display.HTML object>"
      ]
     },
     "metadata": {},
     "output_type": "display_data"
    },
    {
     "data": {
      "text/plain": []
     },
     "execution_count": 85,
     "metadata": {},
     "output_type": "execute_result"
    }
   ],
   "source": [
    "import gradio as gr\n",
    "\n",
    "# create a function to predict stroke\n",
    "def predicta(Gender, Age, Smoking, Fatigue, Allergy):\n",
    "    \n",
    "    # create a dataframe with the inputs\n",
    "    df = pd.DataFrame({\n",
    "        'Gender': [Gender], \n",
    "        'Age':[ Age],\n",
    "        'Smoking': [Smoking],\n",
    "        'Fatigue': [Fatigue],\n",
    "        'Allergy': [Allergy]\n",
    "    })\n",
    "    \n",
    "    # make prediction\n",
    "    y_pred = model_over.predict_proba(df)[:,1] \n",
    "    rounded_y_pred=np.round(y_pred,decimals=2)\n",
    "    \n",
    "    \n",
    "    # return the stroke probabiity\n",
    "    return rounded_y_pred[0]\n",
    "    \n",
    "    \n",
    "    \n",
    "\n",
    "# give the function an interface\n",
    "app = gr.Interface(\n",
    "    title= \"Cancer Prediction App\",\n",
    "    fn=predicta,\n",
    "    inputs=[\"number\",\"number\", \"number\", \"number\", \"number\"],\n",
    "    outputs=[\"number\"]\n",
    ")\n",
    "app.launch()"
   ]
  }
 ],
 "metadata": {
  "kernelspec": {
   "display_name": "Python 3 (ipykernel)",
   "language": "python",
   "name": "python3"
  },
  "language_info": {
   "codemirror_mode": {
    "name": "ipython",
    "version": 3
   },
   "file_extension": ".py",
   "mimetype": "text/x-python",
   "name": "python",
   "nbconvert_exporter": "python",
   "pygments_lexer": "ipython3",
   "version": "3.9.12"
  }
 },
 "nbformat": 4,
 "nbformat_minor": 5
}
